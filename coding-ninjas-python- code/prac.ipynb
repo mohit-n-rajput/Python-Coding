{
 "cells": [
  {
   "cell_type": "code",
   "execution_count": 5,
   "metadata": {},
   "outputs": [
    {
     "name": "stdout",
     "output_type": "stream",
     "text": [
      "4 2\n",
      "1 2 3 4 5 6 7 8\n",
      "3 7 11 15\n"
     ]
    }
   ],
   "source": [
    "def rowWiseSum(arr):\n",
    "    l = []\n",
    "    for row in arr:\n",
    "        sum = 0\n",
    "        for ele in row:\n",
    "            sum = sum + ele\n",
    "        l.append(sum)\n",
    "    return l\n",
    "    \n",
    "\n",
    "m, n=(int(i) for i in input().strip().split(' '))\n",
    "l=[int(i) for i in input().strip().split(' ')]\n",
    "arr = [ [ l[(j*n)+i] for i in range(n)] for j in range(m)]\n",
    "l=rowWiseSum(arr)\n",
    "print(*l)"
   ]
  },
  {
   "cell_type": "code",
   "execution_count": null,
   "metadata": {},
   "outputs": [],
   "source": []
  },
  {
   "cell_type": "code",
   "execution_count": null,
   "metadata": {},
   "outputs": [],
   "source": []
  },
  {
   "cell_type": "code",
   "execution_count": 11,
   "metadata": {},
   "outputs": [],
   "source": [
    "def largestRowCol(arr):\n",
    "    list = []\n",
    "    n = len(arr)\n",
    "    m = len(arr[0])\n",
    "    max1 = -1\n",
    "    index1 = -1\n",
    "    max2 = -1\n",
    "    index2 = -1\n",
    "    for i in range(n):\n",
    "        sum = 0\n",
    "        for j in range(m):\n",
    "            sum = sum + arr[i][j]\n",
    "        if sum > max1:\n",
    "          max1 = sum\n",
    "          index1 = i             \n",
    "\n",
    "    for j in range(m):\n",
    "        sum1 = 0 \n",
    "        for i in range(n):\n",
    "            sum1 = sum1 + arr[i][j]\n",
    "        if sum1 > max2:\n",
    "          max2 = sum1\n",
    "          index2 = j\n",
    "\n",
    "    if max1 == max2 and index1 < index2 or max1 > max2:\n",
    "        list.append(row)\n",
    "        list.append(index1)\n",
    "        list.append(max1)    \n",
    "    else: \n",
    "        list.append(column)\n",
    "        list.append(index2)\n",
    "        list.append(max2)\n",
    "\n",
    "    return list\n"
   ]
  },
  {
   "cell_type": "code",
   "execution_count": null,
   "metadata": {},
   "outputs": [],
   "source": []
  },
  {
   "cell_type": "code",
   "execution_count": null,
   "metadata": {},
   "outputs": [],
   "source": []
  },
  {
   "cell_type": "code",
   "execution_count": null,
   "metadata": {},
   "outputs": [],
   "source": []
  },
  {
   "cell_type": "code",
   "execution_count": null,
   "metadata": {},
   "outputs": [],
   "source": [
    "m = len(arr)\n",
    "n = len(arr[0])\n",
    "for j in range(n):\\n\",\n",
    "    if j % 2 == 0:\\n\",\n",
    "        for i in range(m):\\n\",\n",
    "            print(arr[i][j], end = \\\" \\\")\\n\",\n",
    "    else:\n",
    "        for i in range(m-1, -1, -1):\n",
    "            print(arr[i][j], end = \\\" \\\") \n",
    "                \n",
    "    pass"
   ]
  },
  {
   "cell_type": "code",
   "execution_count": null,
   "metadata": {},
   "outputs": [],
   "source": []
  },
  {
   "cell_type": "code",
   "execution_count": null,
   "metadata": {},
   "outputs": [],
   "source": []
  },
  {
   "cell_type": "code",
   "execution_count": 22,
   "metadata": {},
   "outputs": [
    {
     "name": "stdout",
     "output_type": "stream",
     "text": [
      " 3 3 1 2 3 4 5 6 7 8 9\n",
      " 3 3 1 2 3 4 5 6 7 8 9\n",
      "1 2 3 6 9 8 7 4 5 "
     ]
    }
   ],
   "source": [
    "r=input().split()\n",
    "b=r[2:]\n",
    "l1=[[ int(b[int(r[1])*i+j]) for j in range(int(r[1])) ] for i in range(int(r[0]))]\n",
    "l=[int(i) for i in input().strip().split(' ')]\n",
    "m, n=l[0], l[1]\n",
    "arr = [ [ l[(j*n)+i+2] for i in range(n)] for j in range(m)]\n",
    "\n",
    "rowstart=0\n",
    "colstart=0\n",
    "rowend=len(l1)-1\n",
    "colend=len(l1[0])-1\n",
    "x=1\n",
    "while(x<=(len(l1)*len(l1[0]))):\n",
    "    for i in range(colstart,colend+1):\n",
    "        print(l1[rowstart][i],end=\" \")\n",
    "        x=x+1\n",
    "    rowstart=rowstart+1\n",
    "\n",
    "    for i in range(rowstart,rowend+1):\n",
    "        print(l1[i][colend],end=\" \")\n",
    "        x=x+1\n",
    "    colend=colend-1\n",
    "\n",
    "    for i in range(colend,colstart-1,-1):\n",
    "        print(l1[rowend][i],end=\" \")\n",
    "        x=x+1\n",
    "    rowend=rowend-1\n",
    "      \n",
    "    for i in range(rowend,rowstart-1,-1):\n",
    "        print(l1[i][colstart],end=\" \")\n",
    "        x=x+1\n",
    "    colstart=colstart+1"
   ]
  },
  {
   "cell_type": "code",
   "execution_count": 26,
   "metadata": {},
   "outputs": [],
   "source": [
    "def spiralPrint(matrix):\n",
    "    res = []\n",
    "    if len(matrix) == 0:\n",
    "        return res\n",
    "    row_begin = 0\n",
    "    row_end = len(matrix) - 1\n",
    "    col_begin = 0\n",
    "    col_end = len(matrix[0]) - 1\n",
    "\n",
    "    while row_begin <= row_end and col_begin <= col_end:\n",
    "        for i in range(col_begin, col_end+1):\n",
    "            res.append(matrix[row_begin][i])\n",
    "        row_begin += 1\n",
    "\n",
    "        for i in range(row_begin, row_end+1):\n",
    "            res.append(matrix[i][col_end])\n",
    "        col_end -= 1\n",
    "\n",
    "        if row_begin <= row_end:\n",
    "            for i in range(col_end, col_begin-1, -1):\n",
    "                res.append(matrix[row_end][i])\n",
    "        row_end -= 1\n",
    "\n",
    "        if col_begin <= col_end:\n",
    "            for i in range(row_end, row_begin-1, -1):\n",
    "                res.append(matrix[i][col_begin])\n",
    "        col_begin += 1\n",
    "\n",
    "    return res"
   ]
  },
  {
   "cell_type": "code",
   "execution_count": 29,
   "metadata": {},
   "outputs": [
    {
     "name": "stdout",
     "output_type": "stream",
     "text": [
      " 3 3 1 2 3 4 5 6 7 8 9\n",
      "1 2 3 6 9 8 7 4 5\n"
     ]
    }
   ],
   "source": [
    "l=[int(i) for i in input().strip().split(' ')]\n",
    "m, n=l[0], l[1]\n",
    "arr = [ [ l[(j*n)+i+2] for i in range(n)] for j in range(m)]\n",
    "g = spiralPrint(arr)\n",
    "print(*g)"
   ]
  },
  {
   "cell_type": "code",
   "execution_count": null,
   "metadata": {},
   "outputs": [],
   "source": []
  }
 ],
 "metadata": {
  "kernelspec": {
   "display_name": "Python 3",
   "language": "python",
   "name": "python3"
  },
  "language_info": {
   "codemirror_mode": {
    "name": "ipython",
    "version": 3
   },
   "file_extension": ".py",
   "mimetype": "text/x-python",
   "name": "python",
   "nbconvert_exporter": "python",
   "pygments_lexer": "ipython3",
   "version": "3.7.1"
  }
 },
 "nbformat": 4,
 "nbformat_minor": 4
}
