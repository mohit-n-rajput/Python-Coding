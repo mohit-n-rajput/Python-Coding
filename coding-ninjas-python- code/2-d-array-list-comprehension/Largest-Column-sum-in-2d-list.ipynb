{
 "cells": [
  {
   "cell_type": "raw",
   "metadata": {},
   "source": [
    "Condtions: \n",
    "1) Number of columns are same in list\n",
    "\n",
    "\n",
    "Get index of  column who have large sum.\n",
    "\n",
    "If two column have same sum then whoever come first is largest."
   ]
  },
  {
   "cell_type": "code",
   "execution_count": 2,
   "metadata": {},
   "outputs": [
    {
     "name": "stdout",
     "output_type": "stream",
     "text": [
      "3 4\n",
      "1 2  3 4 5 6 7  8 9 10 11 12\n"
     ]
    }
   ],
   "source": [
    "s = input().split()\n",
    "n,m = int(s[0]), int(s[1])\n",
    "arr_in = [int(i) for i in input().split()]\n",
    "l = [[int(arr_in[m*i+j]) for j in range(m)] for i in range(n)]"
   ]
  },
  {
   "cell_type": "code",
   "execution_count": 3,
   "metadata": {},
   "outputs": [
    {
     "data": {
      "text/plain": [
       "[[1, 2, 3, 4], [5, 6, 7, 8], [9, 10, 11, 12]]"
      ]
     },
     "execution_count": 3,
     "metadata": {},
     "output_type": "execute_result"
    }
   ],
   "source": [
    "l "
   ]
  },
  {
   "cell_type": "code",
   "execution_count": 10,
   "metadata": {},
   "outputs": [],
   "source": [
    "def lar_col_sum(arr):\n",
    "    # row , column = all row have same elements\n",
    "    n = len(arr)\n",
    "    m = len(arr[0])\n",
    "    \n",
    "    max_sum = -1\n",
    "    max_col_index = -1\n",
    "    \n",
    "    # iterate vertically\n",
    "    for j in range(m):\n",
    "        s = 0\n",
    "        for i in range(n):\n",
    "            s += arr[i][j]\n",
    "        \n",
    "        # check for sum\n",
    "        if s > max_sum:\n",
    "            max_sum = s\n",
    "            max_col_index = j\n",
    "            \n",
    "    return max_sum,max_col_index"
   ]
  },
  {
   "cell_type": "code",
   "execution_count": 11,
   "metadata": {},
   "outputs": [
    {
     "name": "stdout",
     "output_type": "stream",
     "text": [
      "24\n",
      "3\n"
     ]
    }
   ],
   "source": [
    "max_sum,col_index = lar_col_sum(l)\n",
    "print(max_sum)\n",
    "print(col_index)"
   ]
  },
  {
   "cell_type": "markdown",
   "metadata": {},
   "source": [
    "#### Another way"
   ]
  },
  {
   "cell_type": "code",
   "execution_count": 14,
   "metadata": {},
   "outputs": [],
   "source": [
    "def lar_col_sum(arr):\n",
    "    # row , column = all row have same elements\n",
    "    n = len(arr)\n",
    "    m = len(arr[0])\n",
    "    \n",
    "    max_sum = -1\n",
    "    max_col_index = -1\n",
    "    \n",
    "    # iterate vertically\n",
    "    for j in range(m):\n",
    "        s = 0\n",
    "        # iterate over list.\n",
    "        for ele in arr:\n",
    "            s += ele[j]\n",
    "        \n",
    "        # check for sum\n",
    "        if s > max_sum:\n",
    "            max_sum = s\n",
    "            max_col_index = j\n",
    "            \n",
    "    return max_sum,max_col_index"
   ]
  },
  {
   "cell_type": "code",
   "execution_count": 15,
   "metadata": {},
   "outputs": [
    {
     "name": "stdout",
     "output_type": "stream",
     "text": [
      "24\n",
      "3\n"
     ]
    }
   ],
   "source": [
    "max_sum,col_index = lar_col_sum(l)\n",
    "print(max_sum)\n",
    "print(col_index)"
   ]
  },
  {
   "cell_type": "code",
   "execution_count": null,
   "metadata": {},
   "outputs": [],
   "source": []
  }
 ],
 "metadata": {
  "kernelspec": {
   "display_name": "Python 3",
   "language": "python",
   "name": "python3"
  },
  "language_info": {
   "codemirror_mode": {
    "name": "ipython",
    "version": 3
   },
   "file_extension": ".py",
   "mimetype": "text/x-python",
   "name": "python",
   "nbconvert_exporter": "python",
   "pygments_lexer": "ipython3",
   "version": "3.7.1"
  }
 },
 "nbformat": 4,
 "nbformat_minor": 4
}
