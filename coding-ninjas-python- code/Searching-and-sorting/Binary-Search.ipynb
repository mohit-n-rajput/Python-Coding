{
 "cells": [
  {
   "cell_type": "markdown",
   "metadata": {},
   "source": [
    "# Linear search:"
   ]
  },
  {
   "cell_type": "markdown",
   "metadata": {},
   "source": [
    "#### If element is exist in array then return it index otherwise return -1."
   ]
  },
  {
   "cell_type": "code",
   "execution_count": 17,
   "metadata": {},
   "outputs": [
    {
     "name": "stdout",
     "output_type": "stream",
     "text": [
      "5\n",
      "1 2 4  6 7 8\n",
      "6\n",
      "[1, 2, 4, 6, 7, 8]\n",
      "3\n"
     ]
    }
   ],
   "source": [
    "def lin_s(n,arr,ele):\n",
    "    is_found = False\n",
    "    for i in range(n):\n",
    "        if arr[i] == ele:\n",
    "            is_found = True\n",
    "            return i\n",
    "            break\n",
    "\n",
    "    if is_found == False:\n",
    "        return -1\n",
    "    \n",
    "\n",
    "\n",
    "n = int(input())\n",
    "l = [int(x) for x in input().split()]\n",
    "d_ele = int(input())\n",
    "\n",
    "print(l)\n",
    "index = lin_s(n,l,d_ele)\n",
    "print(index)\n",
    "        \n"
   ]
  },
  {
   "cell_type": "code",
   "execution_count": 22,
   "metadata": {},
   "outputs": [
    {
     "name": "stdout",
     "output_type": "stream",
     "text": [
      "5\n",
      "1 2 34 5  4\n"
     ]
    }
   ],
   "source": [
    "n = int(input())\n",
    "l = [int(x) for x in input().split()[:n]]"
   ]
  },
  {
   "cell_type": "markdown",
   "metadata": {},
   "source": [
    "# Binary Search"
   ]
  },
  {
   "cell_type": "markdown",
   "metadata": {},
   "source": [
    "### Binary Search only work with sorted array so you given a sorted arrray.\n",
    "\n",
    "\n",
    "```Start must less than or equal to end. \n",
    "When start cross end means start > end then element not present in the list.\n",
    "```"
   ]
  },
  {
   "cell_type": "markdown",
   "metadata": {},
   "source": [
    "<img src=\"img/a.jpg\" width=\"\" height=\"\">"
   ]
  },
  {
   "cell_type": "code",
   "execution_count": 38,
   "metadata": {},
   "outputs": [],
   "source": [
    "def bin_search(arr,ele):\n",
    "    start = 0\n",
    "    end = len(arr) - 1\n",
    "    \n",
    "    while(start <= end):\n",
    "        mid = (start+end)//2\n",
    "\n",
    "        if arr[mid] == ele:\n",
    "            return mid\n",
    "            \n",
    "        elif arr[mid] < ele:\n",
    "            start = mid+1\n",
    "        else:\n",
    "            end= mid - 1\n",
    "    return -1"
   ]
  },
  {
   "cell_type": "code",
   "execution_count": 42,
   "metadata": {},
   "outputs": [
    {
     "name": "stdout",
     "output_type": "stream",
     "text": [
      "1 2 3 4 5 6 7\n",
      "4\n",
      "3\n"
     ]
    }
   ],
   "source": [
    "arr = [int(x) for x in input().split()]\n",
    "\n",
    "find_e = int(input())\n",
    "index = bin_search(arr,find_e) \n",
    "print(index)"
   ]
  },
  {
   "cell_type": "code",
   "execution_count": 43,
   "metadata": {},
   "outputs": [
    {
     "name": "stdout",
     "output_type": "stream",
     "text": [
      "-1\n"
     ]
    }
   ],
   "source": [
    "index = bin_search(arr,31) \n",
    "print(index)"
   ]
  },
  {
   "cell_type": "code",
   "execution_count": null,
   "metadata": {},
   "outputs": [],
   "source": []
  },
  {
   "cell_type": "markdown",
   "metadata": {},
   "source": [
    "# My code\n"
   ]
  },
  {
   "cell_type": "code",
   "execution_count": 25,
   "metadata": {},
   "outputs": [
    {
     "name": "stdout",
     "output_type": "stream",
     "text": [
      "7\n",
      "1 2 3 4 5 6 7\n"
     ]
    }
   ],
   "source": [
    "n = int(input())\n",
    "l = [int(x) for x in input().split()[:n]]"
   ]
  },
  {
   "cell_type": "code",
   "execution_count": 26,
   "metadata": {},
   "outputs": [
    {
     "name": "stdout",
     "output_type": "stream",
     "text": [
      "5\n"
     ]
    }
   ],
   "source": [
    "search_ele = int(input())"
   ]
  },
  {
   "cell_type": "code",
   "execution_count": 30,
   "metadata": {},
   "outputs": [
    {
     "name": "stdout",
     "output_type": "stream",
     "text": [
      "element found at  4\n"
     ]
    }
   ],
   "source": [
    "start = 0\n",
    "end = n-1\n",
    "\n",
    "while(start <= end):\n",
    "    mid = (start+end)//2\n",
    "    \n",
    "    if l[mid] == search_ele:\n",
    "        print(\"element found at \",mid)\n",
    "        break\n",
    "    elif  search_ele > l[mid]:\n",
    "        start = mid+1\n",
    "    else:\n",
    "        end= mid - 1\n",
    "else:\n",
    "    print(-1)"
   ]
  },
  {
   "cell_type": "code",
   "execution_count": 44,
   "metadata": {},
   "outputs": [],
   "source": [
    "# in function form\n",
    "\n",
    "def bin_s(n,arr,search_ele):\n",
    "    start = 0\n",
    "    end = n-1\n",
    "\n",
    "    while(start <= end):\n",
    "        mid = (start+end)//2\n",
    "\n",
    "        if arr[mid] == search_ele:\n",
    "            return mid\n",
    "            \n",
    "        elif  search_ele > arr[mid]:\n",
    "            start = mid+1\n",
    "        else:\n",
    "            end= mid - 1\n",
    "    else:\n",
    "        return -1"
   ]
  },
  {
   "cell_type": "code",
   "execution_count": 45,
   "metadata": {},
   "outputs": [
    {
     "name": "stdout",
     "output_type": "stream",
     "text": [
      "7\n",
      "1 2 3  5 6 7 8\n",
      "10\n",
      "present at -1\n"
     ]
    }
   ],
   "source": [
    "n = int(input())\n",
    "l = [int(x) for x in input().split()[:n]]\n",
    "search_ele = int(input())\n",
    "\n",
    "index = bin_s(n,l,search_ele)\n",
    "print(\"present at\", index)"
   ]
  },
  {
   "cell_type": "markdown",
   "metadata": {},
   "source": [
    "### Second way"
   ]
  },
  {
   "cell_type": "code",
   "execution_count": 34,
   "metadata": {},
   "outputs": [
    {
     "name": "stdout",
     "output_type": "stream",
     "text": [
      "7\n",
      "1 2 3 4 5 6 7\n",
      "5\n",
      "4\n"
     ]
    }
   ],
   "source": [
    "def binary(arr, low, high, key):\n",
    "    if low <= high:\n",
    "      mid = (low + high) // 2\n",
    "      if key == arr[mid]:\n",
    "        return mid\n",
    "      elif arr[mid] > key:\n",
    "        return binary(arr, low, mid - 1, key)\n",
    "      elif arr[mid] < key:\n",
    "        return binary(arr, mid + 1, high, key)\n",
    "    else:\n",
    "      return -1\n",
    "        \n",
    "n = int(input())        \n",
    "arr = [int (x) for x in input().split() [:n]]\n",
    "key = int(input())\n",
    "ele = binary(arr, 0, n-1, key)\n",
    "print(ele)"
   ]
  },
  {
   "cell_type": "code",
   "execution_count": null,
   "metadata": {},
   "outputs": [],
   "source": []
  }
 ],
 "metadata": {
  "kernelspec": {
   "display_name": "Python 3",
   "language": "python",
   "name": "python3"
  },
  "language_info": {
   "codemirror_mode": {
    "name": "ipython",
    "version": 3
   },
   "file_extension": ".py",
   "mimetype": "text/x-python",
   "name": "python",
   "nbconvert_exporter": "python",
   "pygments_lexer": "ipython3",
   "version": "3.7.1"
  }
 },
 "nbformat": 4,
 "nbformat_minor": 4
}
