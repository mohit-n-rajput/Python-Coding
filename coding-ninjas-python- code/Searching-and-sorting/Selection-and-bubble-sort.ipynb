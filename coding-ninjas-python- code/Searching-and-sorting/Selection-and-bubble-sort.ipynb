{
 "cells": [
  {
   "cell_type": "markdown",
   "metadata": {},
   "source": [
    "# Selection Sort"
   ]
  },
  {
   "cell_type": "markdown",
   "metadata": {},
   "source": [
    "### For n elements in array , we run n-1 sorting rounds."
   ]
  },
  {
   "cell_type": "markdown",
   "metadata": {},
   "source": [
    "#### if n-1 array element at their right postion then n element automated sorted"
   ]
  },
  {
   "cell_type": "markdown",
   "metadata": {},
   "source": [
    "<img src=\"\">"
   ]
  },
  {
   "cell_type": "markdown",
   "metadata": {},
   "source": [
    "### Code\n"
   ]
  },
  {
   "cell_type": "code",
   "execution_count": 11,
   "metadata": {},
   "outputs": [
    {
     "name": "stdout",
     "output_type": "stream",
     "text": [
      "[1, 2, 4, 5, 6, 12, 31]\n"
     ]
    }
   ],
   "source": [
    "def sel_sort(arr):\n",
    "    length = len(arr)\n",
    "    # run loop for swapping with min element.\n",
    "    # if n-1 array element at their right postion then n element automated sorted\n",
    "    \n",
    "    for i in range(length-1):\n",
    "        min_index = i\n",
    "        \n",
    "        # run loop for finding min element,run till n-1 elemenr because one element is we assumed.\n",
    "        for j in range(i+1,length):\n",
    "            if arr[j] < arr[min_index]:\n",
    "                min_index = j\n",
    "        \n",
    "        # now we have min, do swapping.\n",
    "        arr[i],arr[min_index] = arr[min_index],arr[i]             \n",
    "        \n",
    "\n",
    "\n",
    "\n",
    "\n",
    "arr = [1,2,4,6,12,31,5]\n",
    "#calling function\n",
    "sel_sort(arr)\n",
    "\n",
    "# we don't need to create new variable , because list will affected by sorting\n",
    "print(arr)"
   ]
  },
  {
   "cell_type": "code",
   "execution_count": null,
   "metadata": {},
   "outputs": [],
   "source": []
  },
  {
   "cell_type": "markdown",
   "metadata": {},
   "source": [
    "# Bubble Sort"
   ]
  },
  {
   "cell_type": "markdown",
   "metadata": {},
   "source": [
    "#### For n elements in array we need n-1 rounds.if n-1 array element at their right postion then n element automated sorted."
   ]
  },
  {
   "cell_type": "markdown",
   "metadata": {},
   "source": [
    "##### basic swap: arr[j] > arr[j+1]"
   ]
  },
  {
   "cell_type": "markdown",
   "metadata": {},
   "source": [
    "#### For each round we go till max element."
   ]
  },
  {
   "cell_type": "code",
   "execution_count": 12,
   "metadata": {},
   "outputs": [
    {
     "name": "stdout",
     "output_type": "stream",
     "text": [
      "[1, 2, 4, 5, 6, 12, 31]\n"
     ]
    }
   ],
   "source": [
    "def bubble_sort(arr):\n",
    "    len_arr = len(arr)\n",
    "    # i loop for n-1 rounds\n",
    "    for i in range(len_arr-1):\n",
    "        \n",
    "        # j for in each iteration we need to go till arr_len-1-i postion.\n",
    "         # go till len_arr-1-i, 1 lesser then previous\n",
    "        for j in range(0,len_arr-1-i):\n",
    "            if arr[j] > arr[j+1]:\n",
    "                arr[j],arr[j+1] = arr[j+1],arr[j]\n",
    "            \n",
    "\n",
    "\n",
    "\n",
    "arr = [1,2,4,6,12,31,5]\n",
    "#calling function\n",
    "bubble_sort(arr)\n",
    "\n",
    "# we don't need to create new variable , because list will affected by sorting\n",
    "print(arr)"
   ]
  },
  {
   "cell_type": "code",
   "execution_count": null,
   "metadata": {},
   "outputs": [],
   "source": []
  }
 ],
 "metadata": {
  "kernelspec": {
   "display_name": "Python 3",
   "language": "python",
   "name": "python3"
  },
  "language_info": {
   "codemirror_mode": {
    "name": "ipython",
    "version": 3
   },
   "file_extension": ".py",
   "mimetype": "text/x-python",
   "name": "python",
   "nbconvert_exporter": "python",
   "pygments_lexer": "ipython3",
   "version": "3.7.1"
  }
 },
 "nbformat": 4,
 "nbformat_minor": 4
}
