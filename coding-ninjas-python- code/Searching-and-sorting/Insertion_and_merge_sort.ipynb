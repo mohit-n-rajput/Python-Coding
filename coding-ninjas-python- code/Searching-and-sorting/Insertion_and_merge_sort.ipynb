{
 "cells": [
  {
   "cell_type": "markdown",
   "metadata": {},
   "source": [
    "# Insertion Sort"
   ]
  },
  {
   "cell_type": "markdown",
   "metadata": {},
   "source": [
    "#### For n elements we run n-1 iterations.For n elements in array we need n-1 rounds.if n-1 array element at their right postion then n element automated sorted."
   ]
  },
  {
   "cell_type": "code",
   "execution_count": 2,
   "metadata": {},
   "outputs": [
    {
     "name": "stdout",
     "output_type": "stream",
     "text": [
      "[1, 2, 4, 5, 6, 12, 31]\n"
     ]
    }
   ],
   "source": [
    "def ins_sort(arr):\n",
    "    arr_len = len(arr)\n",
    "    for i in range(1,arr_len):\n",
    "        # j start from i-1 \n",
    "        j= i-1\n",
    "        temp = arr[i]\n",
    "        # j=-1 is invalid so\n",
    "        # shifiing elements till condition hold\n",
    "        while(j>=0 and arr[j]>temp):\n",
    "            arr[j+1] = arr[j]\n",
    "            j = j - 1\n",
    "        # on left where j stops\n",
    "        arr[j+1] =  temp  \n",
    "\n",
    "arr = [1,2,4,6,12,31,5]\n",
    "#calling function\n",
    "ins_sort(arr)\n",
    "\n",
    "# we don't need to create new variable , because list will affected by sorting\n",
    "print(arr)"
   ]
  },
  {
   "cell_type": "code",
   "execution_count": 6,
   "metadata": {},
   "outputs": [
    {
     "name": "stdout",
     "output_type": "stream",
     "text": [
      "[-1, 0, 0, 0, 0, 13, 31, 123, 123]\n"
     ]
    }
   ],
   "source": [
    "a = [0,0,0,0,31,13,123,123,-1]\n",
    "ins_sort(a)\n",
    "print(a)"
   ]
  },
  {
   "cell_type": "markdown",
   "metadata": {},
   "source": [
    "# Merge Sort"
   ]
  },
  {
   "cell_type": "markdown",
   "metadata": {},
   "source": [
    "#### merge 2 sorted array"
   ]
  },
  {
   "cell_type": "code",
   "execution_count": 11,
   "metadata": {},
   "outputs": [
    {
     "name": "stdout",
     "output_type": "stream",
     "text": [
      "[1, 2, 3, 4, 5, 7, 8, 9, 10]\n"
     ]
    }
   ],
   "source": [
    "def merge_sort_array(a,b):\n",
    "    a_len = len(a)\n",
    "    b_len = len(b)\n",
    "    i,j = 0,0\n",
    "    c = []\n",
    "    while(i<a_len and j<b_len):\n",
    "        if a[i] < b[j]:\n",
    "            c.append(a[i])\n",
    "            i = i + 1\n",
    "        else:\n",
    "            c.append(b[j])\n",
    "            j = j + 1\n",
    "    # if element still remain\n",
    "    while(i<a_len):\n",
    "        c.append(a[i])\n",
    "        i = i + 1\n",
    "    \n",
    "    while(j<b_len):\n",
    "        c.append(b[j])\n",
    "        j = j + 1\n",
    "    \n",
    "    return c\n",
    "\n",
    "\n",
    "arr1 = [1,2,9,10]\n",
    "arr2 = [3,4,5,7,8]\n",
    "\n",
    "arr = merge_sort_array(arr1,arr2)\n",
    "print(arr)"
   ]
  },
  {
   "cell_type": "code",
   "execution_count": null,
   "metadata": {},
   "outputs": [],
   "source": []
  }
 ],
 "metadata": {
  "kernelspec": {
   "display_name": "Python 3",
   "language": "python",
   "name": "python3"
  },
  "language_info": {
   "codemirror_mode": {
    "name": "ipython",
    "version": 3
   },
   "file_extension": ".py",
   "mimetype": "text/x-python",
   "name": "python",
   "nbconvert_exporter": "python",
   "pygments_lexer": "ipython3",
   "version": "3.7.1"
  }
 },
 "nbformat": 4,
 "nbformat_minor": 4
}
