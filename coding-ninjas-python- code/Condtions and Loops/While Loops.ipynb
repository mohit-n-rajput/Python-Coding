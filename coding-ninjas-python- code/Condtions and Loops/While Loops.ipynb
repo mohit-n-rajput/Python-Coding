{
 "cells": [
  {
   "cell_type": "markdown",
   "metadata": {},
   "source": [
    "# While Loop"
   ]
  },
  {
   "cell_type": "code",
   "execution_count": 1,
   "metadata": {},
   "outputs": [
    {
     "name": "stdout",
     "output_type": "stream",
     "text": [
      "5\n",
      "1\n",
      "1\n",
      "1\n",
      "1\n",
      "1\n"
     ]
    }
   ],
   "source": [
    "n = int(input())\n",
    "count = 1\n",
    "\n",
    "while(count<=n):\n",
    "    print(1)\n",
    "    count=count+1"
   ]
  },
  {
   "cell_type": "code",
   "execution_count": 2,
   "metadata": {},
   "outputs": [
    {
     "name": "stdout",
     "output_type": "stream",
     "text": [
      "10\n",
      "1\n",
      "2\n",
      "3\n",
      "4\n",
      "5\n",
      "6\n",
      "7\n",
      "8\n",
      "9\n",
      "10\n"
     ]
    }
   ],
   "source": [
    "#print all natural number till 1 to N\n",
    "n = int(input())\n",
    "count = 1\n",
    "\n",
    "while(count<=n):\n",
    "    print(count)\n",
    "    count=count+1"
   ]
  },
  {
   "cell_type": "markdown",
   "metadata": {},
   "source": [
    "### Check Number is prime or not."
   ]
  },
  {
   "cell_type": "code",
   "execution_count": 8,
   "metadata": {},
   "outputs": [
    {
     "name": "stdout",
     "output_type": "stream",
     "text": [
      "20\n",
      "Number is not prime.\n"
     ]
    }
   ],
   "source": [
    "pri_num = int(input())\n",
    "div = 2 # because prime is only divisible by and itself\n",
    "flag = False\n",
    "while(div < pri_num):\n",
    "    if(pri_num %div == 0):\n",
    "        flag = True # this code run then while loop come in this loop\n",
    "    div = div+1\n",
    "\n",
    "if flag == True:\n",
    "    print(\"Number is not prime.\")\n",
    "else:\n",
    "    print(\"Number is prime.\")"
   ]
  },
  {
   "cell_type": "code",
   "execution_count": 13,
   "metadata": {},
   "outputs": [
    {
     "name": "stdout",
     "output_type": "stream",
     "text": [
      "90\n",
      "Number is not prime.\n"
     ]
    }
   ],
   "source": [
    "# with 1 and 0 checking\n",
    "pri_num = int(input())\n",
    "div = 2 # because prime is only divisible by and itself\n",
    "flag = False\n",
    "while(div < pri_num):\n",
    "    if(pri_num %div == 0):\n",
    "        flag = True # this code run then while loop come in this loop\n",
    "    div = div+1\n",
    "\n",
    "if pri_num == 1 or pri_num == 0 :\n",
    "    print(\"Number is neither not prime nor prime.\")\n",
    "elif flag == True:\n",
    "    print(\"Number is not prime.\")\n",
    "else:\n",
    "    print(\"Number is prime.\")"
   ]
  },
  {
   "cell_type": "markdown",
   "metadata": {},
   "source": [
    "# Nested While loop"
   ]
  },
  {
   "cell_type": "code",
   "execution_count": 20,
   "metadata": {},
   "outputs": [
    {
     "name": "stdout",
     "output_type": "stream",
     "text": [
      "100\n",
      "Prime numbers tiil  100  are: \n",
      "2\n",
      "3\n",
      "5\n",
      "7\n",
      "11\n",
      "13\n",
      "17\n",
      "19\n",
      "23\n",
      "29\n",
      "31\n",
      "37\n",
      "41\n",
      "43\n",
      "47\n",
      "53\n",
      "59\n",
      "61\n",
      "67\n",
      "71\n",
      "73\n",
      "79\n",
      "83\n",
      "89\n",
      "97\n"
     ]
    }
   ],
   "source": [
    "n = int(input())\n",
    "k = 2 # go from 2 to n\n",
    "print(\"Prime numbers tiil \", n,\" are: \")\n",
    "while(k<=n):\n",
    "    #check k is prime or  not\n",
    "    d = 2\n",
    "    flag = False\n",
    "\n",
    "    while(d < k):\n",
    "        if(k % d == 0):\n",
    "            flag = True\n",
    "        d = d + 1\n",
    "\n",
    "    if flag == False:\n",
    "        print(k)\n",
    "\n",
    "    k = k + 1        \n",
    "\n",
    "# flag == False is equal to not(flag)"
   ]
  },
  {
   "cell_type": "code",
   "execution_count": null,
   "metadata": {},
   "outputs": [],
   "source": []
  }
 ],
 "metadata": {
  "kernelspec": {
   "display_name": "Python 3",
   "language": "python",
   "name": "python3"
  },
  "language_info": {
   "codemirror_mode": {
    "name": "ipython",
    "version": 3
   },
   "file_extension": ".py",
   "mimetype": "text/x-python",
   "name": "python",
   "nbconvert_exporter": "python",
   "pygments_lexer": "ipython3",
   "version": "3.7.7"
  }
 },
 "nbformat": 4,
 "nbformat_minor": 4
}
