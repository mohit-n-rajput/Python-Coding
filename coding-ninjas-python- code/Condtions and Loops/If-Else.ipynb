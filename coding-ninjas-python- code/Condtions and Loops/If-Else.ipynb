{
 "cells": [
  {
   "cell_type": "markdown",
   "metadata": {},
   "source": [
    "# If-else"
   ]
  },
  {
   "cell_type": "code",
   "execution_count": 1,
   "metadata": {},
   "outputs": [
    {
     "name": "stdout",
     "output_type": "stream",
     "text": [
      "Inside If\n"
     ]
    }
   ],
   "source": [
    "a = True\n",
    "if a:\n",
    "    print(\"Inside If\")\n",
    "else:\n",
    "    print(\"Inside Else\")"
   ]
  },
  {
   "cell_type": "code",
   "execution_count": 2,
   "metadata": {},
   "outputs": [
    {
     "ename": "IndentationError",
     "evalue": "unexpected indent (<ipython-input-2-e1291fc607a3>, line 5)",
     "output_type": "error",
     "traceback": [
      "\u001b[1;36m  File \u001b[1;32m\"<ipython-input-2-e1291fc607a3>\"\u001b[1;36m, line \u001b[1;32m5\u001b[0m\n\u001b[1;33m    print(\"Inside if 2\")\u001b[0m\n\u001b[1;37m    ^\u001b[0m\n\u001b[1;31mIndentationError\u001b[0m\u001b[1;31m:\u001b[0m unexpected indent\n"
     ]
    }
   ],
   "source": [
    "# Importance of indentation\n",
    "a = True\n",
    "if a:\n",
    "    print(\"Inside If\")\n",
    "     print(\"Inside if 2\")\n",
    "else:\n",
    "    print(\"Inside Else\")"
   ]
  },
  {
   "cell_type": "code",
   "execution_count": 3,
   "metadata": {},
   "outputs": [
    {
     "name": "stdout",
     "output_type": "stream",
     "text": [
      "Inside If\n",
      "Inside if 2\n"
     ]
    }
   ],
   "source": [
    "a = True\n",
    "if a:\n",
    "    print(\"Inside If\")\n",
    "    print(\"Inside if 2\")\n",
    "else:\n",
    "    print(\"Inside Else\")"
   ]
  },
  {
   "cell_type": "code",
   "execution_count": 4,
   "metadata": {},
   "outputs": [
    {
     "name": "stdout",
     "output_type": "stream",
     "text": [
      "Inside Else\n"
     ]
    }
   ],
   "source": [
    "a = False\n",
    "if a:\n",
    "    print(\"Inside If\")\n",
    "    print(\"Inside if 2\")\n",
    "else:\n",
    "    print(\"Inside Else\")"
   ]
  },
  {
   "cell_type": "code",
   "execution_count": 5,
   "metadata": {},
   "outputs": [
    {
     "name": "stdout",
     "output_type": "stream",
     "text": [
      "7\n",
      "Number is Odd.\n"
     ]
    }
   ],
   "source": [
    "# check number to be odd or even\n",
    "num = int(input())\n",
    "remainder = num%2\n",
    "is_even = (remainder == 0) #return boolean value\n",
    "if is_even:\n",
    "    print(\"Number is Even.\")\n",
    "else:\n",
    "    print(\"Number is Odd.\")"
   ]
  },
  {
   "cell_type": "code",
   "execution_count": 6,
   "metadata": {},
   "outputs": [
    {
     "name": "stdout",
     "output_type": "stream",
     "text": [
      "4\n",
      "Number is Even.\n"
     ]
    }
   ],
   "source": [
    "#shorter version\n",
    "num = int(input())\n",
    "even_num = (num%2 == 0)\n",
    "if(even_num):\n",
    "     print(\"Number is Even.\")\n",
    "else:\n",
    "    print(\"Number is Odd.\")"
   ]
  },
  {
   "cell_type": "code",
   "execution_count": 7,
   "metadata": {},
   "outputs": [
    {
     "name": "stdout",
     "output_type": "stream",
     "text": [
      "2\n",
      "Number is Even.\n"
     ]
    }
   ],
   "source": [
    "# More shorter version\n",
    "num = int(input())\n",
    "if(num%2 == 0):\n",
    "     print(\"Number is Even.\")\n",
    "else:\n",
    "    print(\"Number is Odd.\")"
   ]
  },
  {
   "cell_type": "code",
   "execution_count": 8,
   "metadata": {},
   "outputs": [
    {
     "name": "stdout",
     "output_type": "stream",
     "text": [
      "9\n"
     ]
    }
   ],
   "source": [
    "# if even then print , otherwise print nothing\n",
    "num = int(input())\n",
    "if(num%2 == 0):\n",
    "     print(\"Number is Even.\")\n"
   ]
  },
  {
   "cell_type": "markdown",
   "metadata": {},
   "source": [
    "# Using Relational and logical operators"
   ]
  },
  {
   "cell_type": "code",
   "execution_count": 9,
   "metadata": {},
   "outputs": [
    {
     "name": "stdout",
     "output_type": "stream",
     "text": [
      "9\n",
      "88\n",
      "No, Both Values are greater than 10.\n"
     ]
    }
   ],
   "source": [
    "a = int(input())\n",
    "b = int(input())\n",
    "c1 = a>10\n",
    "c2 = b>10\n",
    "c = c1 and c2\n",
    "\n",
    "if(c == True):\n",
    "    print(\"Yes, Both Values are greater than 10.\")\n",
    "else:\n",
    "    print(\"No, Both Values are greater than 10.\")"
   ]
  },
  {
   "cell_type": "code",
   "execution_count": 10,
   "metadata": {},
   "outputs": [
    {
     "name": "stdout",
     "output_type": "stream",
     "text": [
      "100\n",
      "123\n",
      "Yes, Both Values are greater than 10.\n"
     ]
    }
   ],
   "source": [
    "### shoreter version, with logical expression in if block\n",
    "a = int(input())\n",
    "b = int(input())\n",
    "\n",
    "if(a>10 and b>10):\n",
    "    print(\"Yes, Both Values are greater than 10.\")\n",
    "else:\n",
    "    print(\"No, Both Values are greater than 10.\")"
   ]
  },
  {
   "cell_type": "markdown",
   "metadata": {},
   "source": [
    "### Number is 7 or not"
   ]
  },
  {
   "cell_type": "code",
   "execution_count": 11,
   "metadata": {},
   "outputs": [
    {
     "name": "stdout",
     "output_type": "stream",
     "text": [
      "9\n",
      "number is not 7\n"
     ]
    }
   ],
   "source": [
    "c = int(input())\n",
    "if(c != 7):\n",
    "    print(\"number is not 7\")\n",
    "else:\n",
    "    print(\"number is 7\")"
   ]
  },
  {
   "cell_type": "code",
   "execution_count": 12,
   "metadata": {},
   "outputs": [
    {
     "name": "stdout",
     "output_type": "stream",
     "text": [
      "6\n",
      "number is not 7\n"
     ]
    }
   ],
   "source": [
    "c = int(input())\n",
    "if(c == 7):\n",
    "    print(\"number is  7\")\n",
    "else:\n",
    "    print(\"number is not 7\")"
   ]
  },
  {
   "cell_type": "markdown",
   "metadata": {},
   "source": [
    "# Else-If"
   ]
  },
  {
   "cell_type": "code",
   "execution_count": 13,
   "metadata": {},
   "outputs": [
    {
     "name": "stdout",
     "output_type": "stream",
     "text": [
      "5\n",
      "5\n",
      "5\n",
      "Number  5  is Largest.\n"
     ]
    }
   ],
   "source": [
    "# Largest of 3 Numbers\n",
    "i = int(input())\n",
    "j = int(input())\n",
    "k = int(input())\n",
    "\n",
    "if(i>=j and i>=k):\n",
    "    print(\"Number \",i,\" is Largest.\")\n",
    "elif(j>=i and j>=k):\n",
    "    print(\"Number \",j,\" is Largest.\")\n",
    "else:\n",
    "    print(\"Number \",k,\" is Largest.\")"
   ]
  },
  {
   "cell_type": "code",
   "execution_count": 14,
   "metadata": {},
   "outputs": [
    {
     "name": "stdout",
     "output_type": "stream",
     "text": [
      "3\n",
      "Yellow\n"
     ]
    }
   ],
   "source": [
    "# COLOR BASED ON NUMBER\n",
    "n = int(input())\n",
    "if(n>10):\n",
    "    print(\"Red\")\n",
    "elif(5<=n<=10):\n",
    "    print(\"Green\")\n",
    "elif(0<n<5):\n",
    "    print(\"Yellow\")"
   ]
  },
  {
   "cell_type": "code",
   "execution_count": 15,
   "metadata": {},
   "outputs": [
    {
     "name": "stdout",
     "output_type": "stream",
     "text": [
      "7\n",
      "Green\n"
     ]
    }
   ],
   "source": [
    "n = int(input())\n",
    "if(n>10):\n",
    "    print(\"Red\")\n",
    "elif(n>=5 and n<=10):\n",
    "    print(\"Green\")\n",
    "elif(n>0 and n<5):\n",
    "    print(\"Yellow\")"
   ]
  },
  {
   "cell_type": "markdown",
   "metadata": {},
   "source": [
    "## Execution of If-Else block only run in one block, if first block run then it can't go in second block.  If second block run then it can't go in third block and so on.."
   ]
  },
  {
   "cell_type": "code",
   "execution_count": 16,
   "metadata": {
    "scrolled": true
   },
   "outputs": [
    {
     "name": "stdout",
     "output_type": "stream",
     "text": [
      "3\n",
      "Yellow\n"
     ]
    }
   ],
   "source": [
    "# REMOVE COMPLEMERNTARY CONDTIONS (AND N<10) and (and n<5)\n",
    "n = int(input())\n",
    "if(n>10):\n",
    "    print(\"Red\")\n",
    "elif(n>=5):\n",
    "    print(\"Green\")\n",
    "elif(n>0):\n",
    "    print(\"Yellow\")"
   ]
  },
  {
   "cell_type": "markdown",
   "metadata": {},
   "source": [
    "## Changing condition order can change the executuion order. So, Order of If-Else Block is matters a lot. Else Block is optional."
   ]
  },
  {
   "cell_type": "code",
   "execution_count": 17,
   "metadata": {},
   "outputs": [
    {
     "name": "stdout",
     "output_type": "stream",
     "text": [
      "123\n",
      "Green\n"
     ]
    }
   ],
   "source": [
    "# Example\n",
    "n = int(input())\n",
    "\n",
    "if(n>=5):\n",
    "    print(\"Green\")\n",
    "elif(n>10):\n",
    "    print(\"Red\")\n",
    "elif(n>0):\n",
    "    print(\"Yellow\")"
   ]
  },
  {
   "cell_type": "markdown",
   "metadata": {},
   "source": [
    "# Nested Conditionals"
   ]
  },
  {
   "cell_type": "code",
   "execution_count": 19,
   "metadata": {},
   "outputs": [
    {
     "name": "stdout",
     "output_type": "stream",
     "text": [
      "5\n",
      "Number is Odd.\n"
     ]
    }
   ],
   "source": [
    "num = int(input())\n",
    "if(num%2 == 0):\n",
    "    print(\"Number is Even.\")\n",
    "    if num == 0:\n",
    "        print(\"Number is Zero\")\n",
    "else:\n",
    "    print(\"Number is Odd.\")"
   ]
  },
  {
   "cell_type": "code",
   "execution_count": 22,
   "metadata": {},
   "outputs": [
    {
     "name": "stdout",
     "output_type": "stream",
     "text": [
      "2\n",
      "3\n",
      "2\n"
     ]
    }
   ],
   "source": [
    "n = int(input())\n",
    "m = int(input())\n",
    "\n",
    "if n%2 == 0:\n",
    "    if(m%2 == 0):\n",
    "        print(\"1\")\n",
    "    else:\n",
    "        print(\"2\")\n",
    "else:\n",
    "    print(\"3\")"
   ]
  },
  {
   "cell_type": "code",
   "execution_count": 21,
   "metadata": {},
   "outputs": [
    {
     "name": "stdout",
     "output_type": "stream",
     "text": [
      "1\n"
     ]
    }
   ],
   "source": [
    "print(1)"
   ]
  },
  {
   "cell_type": "code",
   "execution_count": null,
   "metadata": {},
   "outputs": [],
   "source": []
  }
 ],
 "metadata": {
  "kernelspec": {
   "display_name": "Python 3",
   "language": "python",
   "name": "python3"
  },
  "language_info": {
   "codemirror_mode": {
    "name": "ipython",
    "version": 3
   },
   "file_extension": ".py",
   "mimetype": "text/x-python",
   "name": "python",
   "nbconvert_exporter": "python",
   "pygments_lexer": "ipython3",
   "version": "3.7.7"
  }
 },
 "nbformat": 4,
 "nbformat_minor": 4
}
