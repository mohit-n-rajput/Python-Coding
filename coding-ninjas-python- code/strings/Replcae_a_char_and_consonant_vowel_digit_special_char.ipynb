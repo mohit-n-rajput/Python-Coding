{
 "cells": [
  {
   "cell_type": "markdown",
   "metadata": {},
   "source": [
    "### replace a particular character with partucular character"
   ]
  },
  {
   "cell_type": "code",
   "execution_count": 5,
   "metadata": {},
   "outputs": [],
   "source": [
    "def rep_st(s,ch1,ch2):\n",
    "    ans = ''\n",
    "    for i in s:\n",
    "        if i == ch1:\n",
    "            ans = ans + ch2\n",
    "        else:\n",
    "            ans = ans+i\n",
    "    return ans"
   ]
  },
  {
   "cell_type": "code",
   "execution_count": 6,
   "metadata": {},
   "outputs": [
    {
     "data": {
      "text/plain": [
       "'fdafdavxz'"
      ]
     },
     "execution_count": 6,
     "metadata": {},
     "output_type": "execute_result"
    }
   ],
   "source": [
    "a = rep_st(\"fsafsavxz\",'s','d')\n",
    "a"
   ]
  },
  {
   "cell_type": "markdown",
   "metadata": {},
   "source": [
    "### Calculate the vowel,consonant and digit and special char in string."
   ]
  },
  {
   "cell_type": "code",
   "execution_count": 47,
   "metadata": {},
   "outputs": [],
   "source": [
    "def countInS(s):\n",
    "    vo,co,di,sc = 0,0,0,0\n",
    "    for ch in s:\n",
    "        if((ch>='a' and ch<='z') or(ch>='A' and ch<='Z')):\n",
    "            #either vowel ot consonant\n",
    "            ch = ch.lower() #or ch.lower()\n",
    "            if(ch=='a' or ch=='e' or ch=='i' or ch=='o' or ch=='u'):\n",
    "                vo = vo + 1\n",
    "            \n",
    "            else:\n",
    "                co = co + 1\n",
    "            \n",
    "            \n",
    "        # for number\n",
    "        elif (ch>='0' and ch<='9'):\n",
    "            di = di + 1\n",
    "        #FOR SPECIAL CHAR\n",
    "        else:\n",
    "            sc = sc + 1\n",
    "            \n",
    "    return vo,co,di,sc"
   ]
  },
  {
   "cell_type": "code",
   "execution_count": 48,
   "metadata": {},
   "outputs": [],
   "source": [
    "s = \"asADASFASadnnkjnj jSADASDADknjn 2123 sdadkioijbnjpwj 1232*%$%^%^%&^\""
   ]
  },
  {
   "cell_type": "code",
   "execution_count": 49,
   "metadata": {},
   "outputs": [
    {
     "data": {
      "text/plain": [
       "'asADASFASadnnkjnj jSADASDADknjn 2123 sdadkioijbnjpwj 1232*%$%^%^%&^'"
      ]
     },
     "execution_count": 49,
     "metadata": {},
     "output_type": "execute_result"
    }
   ],
   "source": [
    "s"
   ]
  },
  {
   "cell_type": "code",
   "execution_count": 50,
   "metadata": {},
   "outputs": [
    {
     "data": {
      "text/plain": [
       "67"
      ]
     },
     "execution_count": 50,
     "metadata": {},
     "output_type": "execute_result"
    }
   ],
   "source": [
    "len(s)"
   ]
  },
  {
   "cell_type": "code",
   "execution_count": 51,
   "metadata": {},
   "outputs": [
    {
     "name": "stdout",
     "output_type": "stream",
     "text": [
      "Vowel are :  12\n",
      "Consonants are :  33\n",
      "Digits are :  8\n",
      "Special chars are :  14\n"
     ]
    }
   ],
   "source": [
    "vo,co,di,sc = countInS(s)\n",
    "print(\"Vowel are : \",vo)\n",
    "print(\"Consonants are : \",co)\n",
    "print(\"Digits are : \",di)\n",
    "print(\"Special chars are : \",sc)"
   ]
  },
  {
   "cell_type": "code",
   "execution_count": 52,
   "metadata": {},
   "outputs": [
    {
     "name": "stdout",
     "output_type": "stream",
     "text": [
      "Vowel are :  2\n",
      "Consonants are :  6\n",
      "Digits are :  4\n",
      "Special chars are :  4\n"
     ]
    }
   ],
   "source": [
    "vo,co,di,sc = countInS(\"abcdEFGH1234*$#!\")\n",
    "print(\"Vowel are : \",vo)\n",
    "print(\"Consonants are : \",co)\n",
    "print(\"Digits are : \",di)\n",
    "print(\"Special chars are : \",sc)"
   ]
  },
  {
   "cell_type": "code",
   "execution_count": 54,
   "metadata": {},
   "outputs": [
    {
     "name": "stdout",
     "output_type": "stream",
     "text": [
      "Vowel are :  2\n",
      "Consonants are :  14\n",
      "Digits are :  6\n",
      "Special chars are :  10\n"
     ]
    }
   ],
   "source": [
    "vo,co,di,sc = countInS(\"kladhsfklj0934u90*&%^&*^*l(dsjf)\")\n",
    "print(\"Vowel are : \",vo)\n",
    "print(\"Consonants are : \",co)\n",
    "print(\"Digits are : \",di)\n",
    "print(\"Special chars are : \",sc)"
   ]
  },
  {
   "cell_type": "code",
   "execution_count": null,
   "metadata": {},
   "outputs": [],
   "source": []
  }
 ],
 "metadata": {
  "kernelspec": {
   "display_name": "Python 3",
   "language": "python",
   "name": "python3"
  },
  "language_info": {
   "codemirror_mode": {
    "name": "ipython",
    "version": 3
   },
   "file_extension": ".py",
   "mimetype": "text/x-python",
   "name": "python",
   "nbconvert_exporter": "python",
   "pygments_lexer": "ipython3",
   "version": "3.7.1"
  }
 },
 "nbformat": 4,
 "nbformat_minor": 4
}
