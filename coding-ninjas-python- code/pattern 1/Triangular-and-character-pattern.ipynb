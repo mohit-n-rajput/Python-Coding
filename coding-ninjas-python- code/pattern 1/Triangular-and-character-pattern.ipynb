{
 "cells": [
  {
   "cell_type": "markdown",
   "metadata": {},
   "source": [
    "# Triangular Pattern"
   ]
  },
  {
   "cell_type": "raw",
   "metadata": {},
   "source": [
    "Pattern 1 :\n",
    "1\n",
    "12\n",
    "123\n",
    "1234\n",
    "\n",
    "1) n=4\n",
    "2) All ith row have ith columns.\n",
    "3) What to print is depend on jth column.Means for first column print 1, so on..."
   ]
  },
  {
   "cell_type": "code",
   "execution_count": 10,
   "metadata": {},
   "outputs": [
    {
     "name": "stdout",
     "output_type": "stream",
     "text": [
      "4\n",
      "1\n",
      "12\n",
      "123\n",
      "1234\n"
     ]
    }
   ],
   "source": [
    "n = int(input())\n",
    "i = 1\n",
    "while(i <= n):\n",
    "    j = 1\n",
    "    # j depend on ith value\n",
    "    while(j<=i):\n",
    "        print(j,end='')\n",
    "        j = j + 1\n",
    "    print()\n",
    "    i = i + 1"
   ]
  },
  {
   "cell_type": "code",
   "execution_count": 17,
   "metadata": {},
   "outputs": [
    {
     "name": "stdout",
     "output_type": "stream",
     "text": [
      "4\n",
      "1\n",
      "12\n",
      "123\n",
      "1234\n"
     ]
    }
   ],
   "source": [
    "# via temporary variable k\n",
    "n = int(input())\n",
    "i = 1\n",
    "while(i <= n):\n",
    "    k = 1\n",
    "    j = 1\n",
    "    # j depend on ith value\n",
    "    while(j<=i):\n",
    "        print(k,end='')\n",
    "        k = k + 1\n",
    "        j = j + 1\n",
    "    print()\n",
    "    i = i + 1"
   ]
  },
  {
   "cell_type": "raw",
   "metadata": {},
   "source": [
    "Pattern 2 :\n",
    "1\n",
    "23\n",
    "345\n",
    "4567\n",
    "\n",
    "1) n=4\n",
    "2) All ith row have ith columns.\n",
    "3) What to print is depend on temporary value k which start with intial value of ith row, and print until loop running and print value equal to row number times. E.g. For first row 1 elements, for 2nd row 2 elements , so on..\n",
    ".We do need to reset the value of k since it depedent from row number."
   ]
  },
  {
   "cell_type": "code",
   "execution_count": 11,
   "metadata": {},
   "outputs": [
    {
     "name": "stdout",
     "output_type": "stream",
     "text": [
      "4\n",
      "1\n",
      "23\n",
      "345\n",
      "4567\n"
     ]
    }
   ],
   "source": [
    "# by temp variable\n",
    "n = int(input())\n",
    "i = 1\n",
    "while(i <= n):\n",
    "    j = 1\n",
    "    k = i\n",
    "    while(j<=i):\n",
    "        print(k,end='')\n",
    "        j = j + 1\n",
    "        k = k + 1\n",
    "    print()\n",
    "    i = i + 1"
   ]
  },
  {
   "cell_type": "code",
   "execution_count": 12,
   "metadata": {},
   "outputs": [
    {
     "name": "stdout",
     "output_type": "stream",
     "text": [
      "4\n",
      "1\n",
      "23\n",
      "345\n",
      "4567\n"
     ]
    }
   ],
   "source": [
    "# by forrmula\n",
    "n = int(input())\n",
    "i = 1\n",
    "while(i <= n):\n",
    "    j = 1\n",
    "    while(j<=i):\n",
    "        print(i+j-1,end='')\n",
    "        j = j + 1\n",
    "    print()\n",
    "    i = i + 1"
   ]
  },
  {
   "cell_type": "raw",
   "metadata": {},
   "source": [
    "Pattern 3 :\n",
    "\n",
    "1\n",
    "23\n",
    "456\n",
    "78910\n",
    "\n",
    "1) n=4\n",
    "2) All ith row have ith columns.\n",
    "3) What to print is depend on temporary variable k which held the current number and keep incrementing it.We don't need to reset the value of k since it indepedent from row number."
   ]
  },
  {
   "cell_type": "code",
   "execution_count": 16,
   "metadata": {},
   "outputs": [
    {
     "name": "stdout",
     "output_type": "stream",
     "text": [
      "4\n",
      "1\n",
      "12\n",
      "123\n",
      "1234\n"
     ]
    }
   ],
   "source": [
    "#We don't need to reset the value of k since it indepedent from row number.\n",
    "n = int(input())\n",
    "i= 1\n",
    "while(i <= n):\n",
    "    k = 1\n",
    "    j = 1\n",
    "    while(j<=i):\n",
    "        print(k,end='')\n",
    "        k = k + 1\n",
    "        j = j+1\n",
    "    print()\n",
    "    i = i + 1\n",
    "    "
   ]
  },
  {
   "cell_type": "code",
   "execution_count": 13,
   "metadata": {},
   "outputs": [
    {
     "name": "stdout",
     "output_type": "stream",
     "text": [
      "4\n",
      "1\n",
      "23\n",
      "456\n",
      "78910\n"
     ]
    }
   ],
   "source": [
    "n = int(input())\n",
    "i,k = 1,1\n",
    "while(i <= n):\n",
    "    j = 1\n",
    "    while(j<=i):\n",
    "        print(k,end='')\n",
    "        k = k + 1\n",
    "        j = j+1\n",
    "    print()\n",
    "    i = i + 1\n",
    "    "
   ]
  },
  {
   "cell_type": "code",
   "execution_count": 14,
   "metadata": {},
   "outputs": [
    {
     "name": "stdout",
     "output_type": "stream",
     "text": [
      "4\n",
      "1 \n",
      "2 3 \n",
      "4 5 6 \n",
      "7 8 9 10 \n"
     ]
    }
   ],
   "source": [
    "# spaced version\n",
    "n = int(input())\n",
    "i,k = 1,1\n",
    "while(i <= n):\n",
    "    j = 1\n",
    "    while(j<=i):\n",
    "        print(k,end=' ')\n",
    "        k = k + 1\n",
    "        j = j+1\n",
    "    print()\n",
    "    i = i + 1\n",
    "    "
   ]
  },
  {
   "cell_type": "markdown",
   "metadata": {},
   "source": [
    "#  Character Patterns"
   ]
  },
  {
   "cell_type": "markdown",
   "metadata": {},
   "source": [
    "### print kth alphabets\n",
    "\n",
    "#### kth alphabet  = 'A' + k - 1"
   ]
  },
  {
   "cell_type": "raw",
   "metadata": {},
   "source": [
    "For that we use ord() and chr() methods.\n",
    "\n",
    "1) ord() = Give ascii code of character. It's only works with one character,\n",
    "\n",
    "2) crd() = Give character according to ascii code."
   ]
  },
  {
   "cell_type": "code",
   "execution_count": 8,
   "metadata": {},
   "outputs": [
    {
     "data": {
      "text/plain": [
       "65"
      ]
     },
     "execution_count": 8,
     "metadata": {},
     "output_type": "execute_result"
    }
   ],
   "source": [
    "ord('A')"
   ]
  },
  {
   "cell_type": "code",
   "execution_count": 9,
   "metadata": {},
   "outputs": [
    {
     "data": {
      "text/plain": [
       "97"
      ]
     },
     "execution_count": 9,
     "metadata": {},
     "output_type": "execute_result"
    }
   ],
   "source": [
    "ord('a')"
   ]
  },
  {
   "cell_type": "code",
   "execution_count": 10,
   "metadata": {},
   "outputs": [
    {
     "ename": "TypeError",
     "evalue": "ord() expected a character, but string of length 2 found",
     "output_type": "error",
     "traceback": [
      "\u001b[1;31m---------------------------------------------------------------------------\u001b[0m",
      "\u001b[1;31mTypeError\u001b[0m                                 Traceback (most recent call last)",
      "\u001b[1;32m<ipython-input-10-b457ae31090b>\u001b[0m in \u001b[0;36m<module>\u001b[1;34m\u001b[0m\n\u001b[1;32m----> 1\u001b[1;33m \u001b[0mord\u001b[0m\u001b[1;33m(\u001b[0m\u001b[1;34m'as'\u001b[0m\u001b[1;33m)\u001b[0m\u001b[1;33m\u001b[0m\u001b[1;33m\u001b[0m\u001b[0m\n\u001b[0m",
      "\u001b[1;31mTypeError\u001b[0m: ord() expected a character, but string of length 2 found"
     ]
    }
   ],
   "source": [
    "ord('as')"
   ]
  },
  {
   "cell_type": "code",
   "execution_count": 11,
   "metadata": {},
   "outputs": [
    {
     "data": {
      "text/plain": [
       "' '"
      ]
     },
     "execution_count": 11,
     "metadata": {},
     "output_type": "execute_result"
    }
   ],
   "source": [
    "chr(32)"
   ]
  },
  {
   "cell_type": "code",
   "execution_count": 12,
   "metadata": {},
   "outputs": [
    {
     "data": {
      "text/plain": [
       "'a'"
      ]
     },
     "execution_count": 12,
     "metadata": {},
     "output_type": "execute_result"
    }
   ],
   "source": [
    "chr(97)"
   ]
  },
  {
   "cell_type": "code",
   "execution_count": 13,
   "metadata": {},
   "outputs": [
    {
     "name": "stdout",
     "output_type": "stream",
     "text": [
      "5\n"
     ]
    },
    {
     "data": {
      "text/plain": [
       "'E'"
      ]
     },
     "execution_count": 13,
     "metadata": {},
     "output_type": "execute_result"
    }
   ],
   "source": [
    "#print kth alphabet\n",
    "k = int(input())\n",
    "x = ord('A')\n",
    "ascii_hold = x + k - 1\n",
    "char_target = chr(ascii_hold)\n",
    "char_target"
   ]
  },
  {
   "cell_type": "code",
   "execution_count": 14,
   "metadata": {},
   "outputs": [
    {
     "name": "stdout",
     "output_type": "stream",
     "text": [
      "5\n"
     ]
    },
    {
     "data": {
      "text/plain": [
       "'E'"
      ]
     },
     "execution_count": 14,
     "metadata": {},
     "output_type": "execute_result"
    }
   ],
   "source": [
    "# in one line\n",
    "k = int(input())\n",
    "char_target = chr(ord('A') + k - 1)\n",
    "char_target"
   ]
  },
  {
   "cell_type": "raw",
   "metadata": {},
   "source": [
    "Pattern 1:\n",
    "\n",
    "ABCD\n",
    "ABCD\n",
    "ABCD\n",
    "ABCD\n",
    "\n",
    "1) n = 4\n",
    "2 ) j =4\n",
    "3) print 'A'+j - 1"
   ]
  },
  {
   "cell_type": "code",
   "execution_count": 23,
   "metadata": {},
   "outputs": [
    {
     "name": "stdout",
     "output_type": "stream",
     "text": [
      "4\n",
      "ABCD\n",
      "ABCD\n",
      "ABCD\n",
      "ABCD\n"
     ]
    }
   ],
   "source": [
    "num = int(input())\n",
    "i = 1\n",
    "while(i <= num):\n",
    "    j = 1\n",
    "    while(j <= num):\n",
    "        char_target = chr(ord('A') + j - 1)\n",
    "        print(char_target, end='')\n",
    "        j = j + 1\n",
    "    print()\n",
    "    i = i + 1"
   ]
  },
  {
   "cell_type": "raw",
   "metadata": {},
   "source": [
    "Pattern 2:\n",
    "\n",
    "ABCD\n",
    "BCDE\n",
    "CDEF\n",
    "DEFG\n",
    "\n",
    "1) n = 4\n",
    "2 ) j = 4\n",
    "3) print 'A'+j - 1 . Here, not every row start with A show we need a one start_char for every row.Show for first row it is A, the n B for second , so on..."
   ]
  },
  {
   "cell_type": "code",
   "execution_count": 26,
   "metadata": {},
   "outputs": [
    {
     "name": "stdout",
     "output_type": "stream",
     "text": [
      "4\n",
      "ABCD\n",
      "BCDE\n",
      "CDEF\n",
      "DEFG\n"
     ]
    }
   ],
   "source": [
    "# if we set start_char with ord then it will keep updated.\n",
    "num = int(input())\n",
    "i = 1\n",
    "while(i <= num):\n",
    "    j = 1\n",
    "    start_char = chr(ord('A') + i - 1)\n",
    "    while(j <= num):\n",
    "        char_target = chr(ord(start_char) + j - 1)\n",
    "        print(char_target, end='')\n",
    "        j = j + 1\n",
    "    print()\n",
    "    i = i + 1"
   ]
  },
  {
   "cell_type": "code",
   "execution_count": null,
   "metadata": {},
   "outputs": [],
   "source": []
  },
  {
   "cell_type": "code",
   "execution_count": 36,
   "metadata": {},
   "outputs": [
    {
     "name": "stdout",
     "output_type": "stream",
     "text": [
      "5\n",
      "    1\n",
      "   12\n",
      "  123\n",
      " 1234\n",
      "12345\n"
     ]
    }
   ],
   "source": [
    "num = int(input())\n",
    "i = 1\n",
    "while(i<=num):\n",
    "    j = 1\n",
    "    print(\" \"*(num-i),end='')\n",
    "    while(j<=i):\n",
    "        \n",
    "        print(j, end='')\n",
    "        j = j + 1\n",
    "\n",
    "    print()\n",
    "    i = i + 1\n"
   ]
  },
  {
   "cell_type": "code",
   "execution_count": null,
   "metadata": {},
   "outputs": [],
   "source": []
  },
  {
   "cell_type": "code",
   "execution_count": 40,
   "metadata": {},
   "outputs": [
    {
     "name": "stdout",
     "output_type": "stream",
     "text": [
      "3\n",
      "  *\n",
      " **\n",
      "***\n"
     ]
    }
   ],
   "source": [
    "num = int(input())\n",
    "i = 1\n",
    "while(i<=num):\n",
    "    j = 1\n",
    "    print(\" \"*(num-i),end='')\n",
    "    while(j<=i):\n",
    "        \n",
    "        print('*', end='')\n",
    "        j = j + 1\n",
    "        \n",
    "    print()\n",
    "    i = i + 1\n",
    "    \n",
    "    "
   ]
  },
  {
   "cell_type": "code",
   "execution_count": null,
   "metadata": {},
   "outputs": [],
   "source": []
  }
 ],
 "metadata": {
  "kernelspec": {
   "display_name": "Python 3",
   "language": "python",
   "name": "python3"
  },
  "language_info": {
   "codemirror_mode": {
    "name": "ipython",
    "version": 3
   },
   "file_extension": ".py",
   "mimetype": "text/x-python",
   "name": "python",
   "nbconvert_exporter": "python",
   "pygments_lexer": "ipython3",
   "version": "3.7.7"
  }
 },
 "nbformat": 4,
 "nbformat_minor": 4
}
