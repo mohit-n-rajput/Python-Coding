{
 "cells": [
  {
   "cell_type": "raw",
   "metadata": {},
   "source": [
    "# print the pattern as it is manually.\n",
    "\n",
    "****\n",
    "****\n",
    "****\n",
    "****"
   ]
  },
  {
   "cell_type": "raw",
   "metadata": {},
   "source": [
    "steps:\n",
    "1) take input\n",
    "2) run loop for go over rows\n",
    "3) print row correctly."
   ]
  },
  {
   "cell_type": "markdown",
   "metadata": {},
   "source": [
    "### print() automatically put the enter at the end of command. Empty print() print empty space. For that print() command have 'end' parameter which have give you choice how you end your line.By defalult it is '\\n'."
   ]
  },
  {
   "cell_type": "code",
   "execution_count": 1,
   "metadata": {},
   "outputs": [
    {
     "name": "stdout",
     "output_type": "stream",
     "text": [
      "3\n",
      "*\n",
      "*\n",
      "*\n",
      "\n",
      "*\n",
      "*\n",
      "*\n",
      "\n",
      "*\n",
      "*\n",
      "*\n",
      "\n"
     ]
    }
   ],
   "source": [
    "# catch in program\n",
    "num = int(input())\n",
    "i = 1\n",
    "while(i<=num):\n",
    "    #for printing ith row\n",
    "    j = 1 \n",
    "    while(j <= num):\n",
    "        #for printing jth column\n",
    "        print('*')\n",
    "        j = j + 1\n",
    "    print()\n",
    "    i = i + 1"
   ]
  },
  {
   "cell_type": "code",
   "execution_count": 2,
   "metadata": {},
   "outputs": [
    {
     "name": "stdout",
     "output_type": "stream",
     "text": [
      "3\n",
      "*1*1*1\n",
      "*1*1*1\n",
      "*1*1*1\n"
     ]
    }
   ],
   "source": [
    "# * print every time 1 attached with it.\n",
    "num = int(input())\n",
    "i = 1\n",
    "while(i<=num):\n",
    "    #for printing ith row\n",
    "    j = 1 \n",
    "    while(j <= num):\n",
    "        #for printing jth column\n",
    "        print('*',end='1')\n",
    "        j = j + 1\n",
    "    print()\n",
    "    i = i + 1"
   ]
  },
  {
   "cell_type": "code",
   "execution_count": 3,
   "metadata": {},
   "outputs": [
    {
     "name": "stdout",
     "output_type": "stream",
     "text": [
      "3\n",
      "*1*1*1*1*1*1*1*1*1"
     ]
    }
   ],
   "source": [
    "# * print every time 1 attached with it.\n",
    "num = int(input())\n",
    "i = 1\n",
    "while(i<=num):\n",
    "    #for printing ith row\n",
    "    j = 1 \n",
    "    while(j <= num):\n",
    "        #for printing jth column\n",
    "        print('*',end='1')\n",
    "        j = j + 1\n",
    " \n",
    "    i = i + 1"
   ]
  },
  {
   "cell_type": "code",
   "execution_count": 4,
   "metadata": {
    "scrolled": true
   },
   "outputs": [
    {
     "name": "stdout",
     "output_type": "stream",
     "text": [
      "4\n",
      "****\n",
      "****\n",
      "****\n",
      "****\n"
     ]
    }
   ],
   "source": [
    "#correct code\n",
    "# * print every time 1 attached with it.\n",
    "num = int(input())\n",
    "i = 1\n",
    "while(i<=num):\n",
    "    #for printing ith row\n",
    "    j = 1 \n",
    "    while(j <= num):\n",
    "        #for printing jth column\n",
    "        print('*',end='')\n",
    "        j = j + 1\n",
    "    print() # new line for each row\n",
    "    i = i + 1"
   ]
  },
  {
   "cell_type": "markdown",
   "metadata": {},
   "source": [
    "# Square Patterns\n"
   ]
  },
  {
   "cell_type": "markdown",
   "metadata": {},
   "source": [
    "### pattern  1"
   ]
  },
  {
   "cell_type": "raw",
   "metadata": {},
   "source": [
    "1111\n",
    "2222\n",
    "3333\n",
    "4444\n",
    "\n",
    "1)n = 4\n",
    "2) each row have n columns\n",
    "3) what to print is depend on i."
   ]
  },
  {
   "cell_type": "code",
   "execution_count": 5,
   "metadata": {},
   "outputs": [
    {
     "name": "stdout",
     "output_type": "stream",
     "text": [
      "5\n",
      "1111122222333334444455555"
     ]
    }
   ],
   "source": [
    "# small catch\n",
    "num = int(input())\n",
    "i = 1\n",
    "while(i <= num):\n",
    "    j = 1\n",
    "    while(j<=num):\n",
    "        print(i, end='')\n",
    "        j = j + 1\n",
    "    i = i + 1"
   ]
  },
  {
   "cell_type": "code",
   "execution_count": 6,
   "metadata": {},
   "outputs": [
    {
     "name": "stdout",
     "output_type": "stream",
     "text": [
      "5\n",
      "11111\t22222\t33333\t44444\t55555\t"
     ]
    }
   ],
   "source": [
    "#catch 2\n",
    "num = int(input())\n",
    "i = 1\n",
    "while(i <= num):\n",
    "    j = 1\n",
    "    while(j<=num):\n",
    "        print(i, end='')\n",
    "        j = j + 1\n",
    "    print(end='\\t')\n",
    "    i = i + 1"
   ]
  },
  {
   "cell_type": "code",
   "execution_count": 7,
   "metadata": {},
   "outputs": [
    {
     "name": "stdout",
     "output_type": "stream",
     "text": [
      "5\n",
      "11111\n",
      "22222\n",
      "33333\n",
      "44444\n",
      "55555\n"
     ]
    }
   ],
   "source": [
    "#suitable code\n",
    "num = int(input())\n",
    "i = 1\n",
    "while(i <= num):\n",
    "    j = 1\n",
    "    while(j<=num):\n",
    "        print(i, end='')\n",
    "        j = j + 1\n",
    "    print()\n",
    "    i = i + 1"
   ]
  },
  {
   "cell_type": "markdown",
   "metadata": {},
   "source": [
    "### pattern 2"
   ]
  },
  {
   "cell_type": "raw",
   "metadata": {},
   "source": [
    "1234\n",
    "1234\n",
    "1234\n",
    "1234\n",
    "\n",
    "1)n = 4\n",
    "2) each row have n columns\n",
    "3) what to print is depend on j."
   ]
  },
  {
   "cell_type": "code",
   "execution_count": 9,
   "metadata": {},
   "outputs": [
    {
     "name": "stdout",
     "output_type": "stream",
     "text": [
      "4\n",
      "1234\n",
      "1234\n",
      "1234\n",
      "1234\n"
     ]
    }
   ],
   "source": [
    "num = int(input())\n",
    "i = 1\n",
    "while(i <= num):\n",
    "    j = 1\n",
    "    while(j<=num):\n",
    "        print(j, end='')\n",
    "        j = j + 1\n",
    "    print()\n",
    "    i = i + 1"
   ]
  },
  {
   "cell_type": "markdown",
   "metadata": {},
   "source": [
    "### pattern 3"
   ]
  },
  {
   "cell_type": "raw",
   "metadata": {},
   "source": [
    "4321\n",
    "4321\n",
    "4321\n",
    "4321\n",
    "\n",
    "1)n = 4\n",
    "2) each row have n columns\n",
    "3) what to print is depend on  n and j. As , j increases , j decreases."
   ]
  },
  {
   "cell_type": "code",
   "execution_count": 17,
   "metadata": {},
   "outputs": [
    {
     "name": "stdout",
     "output_type": "stream",
     "text": [
      "4\n",
      "4321\n",
      "4321\n",
      "4321\n",
      "4321\n"
     ]
    }
   ],
   "source": [
    "num = int(input())\n",
    "i = 1\n",
    "while(i<=num):\n",
    "    j = 1\n",
    "    while(j<=num):\n",
    "        print(num-j + 1, end='')\n",
    "        j = j + 1\n",
    "    print()\n",
    "    i = i + 1"
   ]
  },
  {
   "cell_type": "markdown",
   "metadata": {},
   "source": [
    "# Triangular pattern"
   ]
  },
  {
   "cell_type": "code",
   "execution_count": null,
   "metadata": {},
   "outputs": [],
   "source": []
  },
  {
   "cell_type": "code",
   "execution_count": null,
   "metadata": {},
   "outputs": [],
   "source": []
  }
 ],
 "metadata": {
  "kernelspec": {
   "display_name": "Python 3",
   "language": "python",
   "name": "python3"
  },
  "language_info": {
   "codemirror_mode": {
    "name": "ipython",
    "version": 3
   },
   "file_extension": ".py",
   "mimetype": "text/x-python",
   "name": "python",
   "nbconvert_exporter": "python",
   "pygments_lexer": "ipython3",
   "version": "3.7.7"
  }
 },
 "nbformat": 4,
 "nbformat_minor": 4
}
