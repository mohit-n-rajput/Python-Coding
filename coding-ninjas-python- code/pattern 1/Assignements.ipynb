{
 "cells": [
  {
   "cell_type": "markdown",
   "metadata": {},
   "source": [
    "#  Q-1"
   ]
  },
  {
   "cell_type": "raw",
   "metadata": {},
   "source": [
    "Print the following pattern for the given N number of rows.\n",
    "\n",
    "Sample Input 1:\n",
    "7\n",
    "\n",
    "Sample Output 1:\n",
    "7777777\n",
    "7777777\n",
    "7777777\n",
    "7777777\n",
    "7777777\n",
    "7777777\n",
    "7777777\n",
    "\n",
    "Sample Input 1:\n",
    "6\n",
    "\n",
    "Sample Output 1:\n",
    "666666\n",
    "666666\n",
    "666666\n",
    "666666\n",
    "666666\n",
    "666666\n"
   ]
  },
  {
   "cell_type": "code",
   "execution_count": 5,
   "metadata": {},
   "outputs": [
    {
     "name": "stdout",
     "output_type": "stream",
     "text": [
      "5\n",
      "55555\n",
      "\n",
      "\n",
      "\n",
      "\n"
     ]
    }
   ],
   "source": [
    "#small catch in program\n",
    "num = int(input())\n",
    "i = 1 \n",
    "j=1\n",
    "while(i<=num):\n",
    "    \n",
    "    while(j<=num):\n",
    "        print(num, end='')\n",
    "        j = j + 1\n",
    "    \n",
    "    print()\n",
    "    i = i + 1"
   ]
  },
  {
   "cell_type": "code",
   "execution_count": 6,
   "metadata": {},
   "outputs": [
    {
     "name": "stdout",
     "output_type": "stream",
     "text": [
      "7\n",
      "7777777\n",
      "7777777\n",
      "7777777\n",
      "7777777\n",
      "7777777\n",
      "7777777\n",
      "7777777\n"
     ]
    }
   ],
   "source": [
    "num = int(input())\n",
    "i = 1 \n",
    "\n",
    "while(i<=num):\n",
    "    j=1\n",
    "    while(j<=num):\n",
    "        print(num, end='')\n",
    "        j = j + 1\n",
    "    \n",
    "    print()\n",
    "    i = i + 1"
   ]
  },
  {
   "cell_type": "markdown",
   "metadata": {},
   "source": [
    "# Q-2"
   ]
  },
  {
   "cell_type": "raw",
   "metadata": {},
   "source": [
    "Number Pattern 2\n",
    "\n",
    "Print the following pattern for the given N number of rows.\n",
    "\n",
    "Pattern for N = 4\n",
    "\n",
    "1\n",
    "11\n",
    "202\n",
    "3003"
   ]
  },
  {
   "cell_type": "code",
   "execution_count": 52,
   "metadata": {},
   "outputs": [
    {
     "name": "stdout",
     "output_type": "stream",
     "text": [
      "5\n",
      "1\n",
      "11\n",
      "202\n",
      "3003\n",
      "40004\n"
     ]
    }
   ],
   "source": [
    "num = int(input())\n",
    "if(num==0):\n",
    "    print(1,end='')\n",
    "    i=1\n",
    "else:\n",
    "    i=1\n",
    "\n",
    "while(i<=num):\n",
    "\n",
    "        j=1\n",
    "        k=i\n",
    "        while(j<=i):\n",
    "\n",
    "            if(i==1):\n",
    "                print(1,end='')\n",
    "                j=j+1\n",
    "            elif(k==i and (j==1 or j==i)):\n",
    "                print(i-1,end='')\n",
    "            else:\n",
    "                print(0, end='')\n",
    "            j = j + 1\n",
    "        print()\n",
    "        i = i + 1"
   ]
  },
  {
   "cell_type": "markdown",
   "metadata": {},
   "source": [
    "# Q-4"
   ]
  },
  {
   "cell_type": "raw",
   "metadata": {},
   "source": [
    "Number Pattern\n",
    "\n",
    "Print the following pattern for the given N number of rows.\n",
    "\n",
    "Pattern for N = 4\n",
    "\n",
    "1234\n",
    "123\n",
    "12\n",
    "1"
   ]
  },
  {
   "cell_type": "code",
   "execution_count": 68,
   "metadata": {},
   "outputs": [
    {
     "name": "stdout",
     "output_type": "stream",
     "text": [
      "5\n",
      "12345\n",
      "1234\n",
      "123\n",
      "12\n",
      "1\n"
     ]
    }
   ],
   "source": [
    "n = int(input())\n",
    "i = n\n",
    "while(i>0):\n",
    "    j = 1\n",
    "    k = 1\n",
    "    while(j<=i):\n",
    "        print(k,end='')\n",
    "        k = k + 1\n",
    "        j = j + 1    \n",
    "    \n",
    "    print()\n",
    "    i = i - 1\n"
   ]
  },
  {
   "cell_type": "markdown",
   "metadata": {},
   "source": [
    "# Q-3"
   ]
  },
  {
   "cell_type": "raw",
   "metadata": {},
   "source": [
    "Number Pattern 3\n",
    "\n",
    "Print the following pattern for the given N number of rows.\n",
    "\n",
    "Pattern for N = 4\n",
    "\n",
    "1\n",
    "11\n",
    "121\n",
    "1221"
   ]
  },
  {
   "cell_type": "code",
   "execution_count": 67,
   "metadata": {},
   "outputs": [
    {
     "name": "stdout",
     "output_type": "stream",
     "text": [
      "4\n",
      "1\n",
      "11\n",
      "121\n",
      "1221\n"
     ]
    }
   ],
   "source": [
    "n = int(input())\n",
    "\n",
    "i = 1\n",
    "while(i<=n):\n",
    "    j = 1\n",
    "    k = i\n",
    "    while(j<=i):\n",
    "        if((k==i and j==1)or (k==i and j==i)):\n",
    "            print(1,end='')\n",
    "           \n",
    "        else:\n",
    "            print(2,end='')\n",
    "            \n",
    "        j = j + 1\n",
    "    print()\n",
    "    i = i + 1"
   ]
  },
  {
   "cell_type": "markdown",
   "metadata": {},
   "source": [
    "# Q-5"
   ]
  },
  {
   "cell_type": "code",
   "execution_count": 3,
   "metadata": {},
   "outputs": [
    {
     "name": "stdout",
     "output_type": "stream",
     "text": [
      "3\n",
      "A\n",
      "BB\n",
      "CCC\n"
     ]
    }
   ],
   "source": [
    "num = int(input())\n",
    "i = 1\n",
    "while(i<=num):\n",
    "    j = 1\n",
    "    start_char = chr(ord('A') + i - 1)\n",
    "    while(j<=i):\n",
    "        print(start_char, end='')\n",
    "        j = j + 1\n",
    "    print()\n",
    "    i = i + 1"
   ]
  },
  {
   "cell_type": "code",
   "execution_count": null,
   "metadata": {},
   "outputs": [],
   "source": []
  }
 ],
 "metadata": {
  "kernelspec": {
   "display_name": "Python 3",
   "language": "python",
   "name": "python3"
  },
  "language_info": {
   "codemirror_mode": {
    "name": "ipython",
    "version": 3
   },
   "file_extension": ".py",
   "mimetype": "text/x-python",
   "name": "python",
   "nbconvert_exporter": "python",
   "pygments_lexer": "ipython3",
   "version": "3.7.7"
  }
 },
 "nbformat": 4,
 "nbformat_minor": 4
}
