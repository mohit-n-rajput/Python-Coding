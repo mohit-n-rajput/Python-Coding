{
 "cells": [
  {
   "cell_type": "markdown",
   "metadata": {},
   "source": [
    "# Q-3 Pyramid pattern"
   ]
  },
  {
   "cell_type": "code",
   "execution_count": 11,
   "metadata": {},
   "outputs": [
    {
     "name": "stdout",
     "output_type": "stream",
     "text": [
      "4\n",
      "   1\n",
      "  212\n",
      " 32123\n",
      "4321234\n"
     ]
    }
   ],
   "source": [
    "num = int(input())\n",
    "# row loop\n",
    "i = 1\n",
    "while(i <= num):\n",
    "    # two loops for column printing\n",
    "    # space loop\n",
    "    space = 1\n",
    "    while(space <= num-i):\n",
    "        print(' ', end='')\n",
    "        space = space + 1\n",
    "        \n",
    "    #num loop\n",
    "    j=1\n",
    "    k = i\n",
    "    while(j <= i):\n",
    "        print(k,end=\"\")\n",
    "        c= k\n",
    "        k = k - 1\n",
    "        j=j+1\n",
    "        \n",
    "    # space loop\n",
    "    # decreasing loop, start from i-1\n",
    "    p = i-1\n",
    "    while(p>=1):\n",
    "        c = c + 1\n",
    "        print(c,end=\"\")\n",
    "        p = p - 1\n",
    "\n",
    "    print()\n",
    "    i = i + 1"
   ]
  },
  {
   "cell_type": "code",
   "execution_count": 18,
   "metadata": {},
   "outputs": [
    {
     "name": "stdout",
     "output_type": "stream",
     "text": [
      "5\n",
      "    1\n",
      "   21\n",
      "  321\n",
      " 4321\n",
      "54321\n"
     ]
    }
   ],
   "source": [
    "num = int(input())\n",
    "# row loop\n",
    "i = 1\n",
    "while(i <= num):\n",
    "    # two loops for column printing\n",
    "    # space loop\n",
    "    space = 1\n",
    "    while(space <= num-i):\n",
    "        print(' ', end='')\n",
    "        space = space + 1\n",
    "        \n",
    "    #num loop\n",
    "    j=1\n",
    "    k = i\n",
    "    while(j <= i):\n",
    "        print(k,end=\"\")\n",
    "        c= k\n",
    "        k = k - 1\n",
    "        j=j+1\n",
    "    \n",
    "    print()\n",
    "    i = i + 1"
   ]
  },
  {
   "cell_type": "markdown",
   "metadata": {},
   "source": [
    "# q-1 number patttern"
   ]
  },
  {
   "cell_type": "code",
   "execution_count": 24,
   "metadata": {},
   "outputs": [
    {
     "name": "stdout",
     "output_type": "stream",
     "text": [
      "5\n",
      "1        1\n",
      "12      21\n",
      "123    321\n",
      "1234  4321\n",
      "1234554321\n"
     ]
    }
   ],
   "source": [
    "num = int(input())\n",
    "# row loop\n",
    "i = 1\n",
    "while(i <= num):\n",
    "    k = 1\n",
    "    j = 1\n",
    "    while(j<=i):\n",
    "        print(k,end='')\n",
    "        k = k + 1\n",
    "        j = j+1\n",
    "    \n",
    "    \n",
    "#     # space loop\n",
    "#     space = 2*num-1\n",
    "#     while(space > 0):\n",
    "#         print(' ', end='')\n",
    "#         space = space - 1\n",
    "      \n",
    "    \n",
    "    \n",
    "    space = 1\n",
    "    while(space <= num-i):\n",
    "        print('  ', end='')\n",
    "        space = space + 1\n",
    "        \n",
    "    #num loop\n",
    "    j=1\n",
    "    k = i\n",
    "    while(j <= i):\n",
    "        print(k,end=\"\")\n",
    "        c= k\n",
    "        k = k - 1\n",
    "        j=j+1\n",
    "   \n",
    "    print()\n",
    "    i = i + 1"
   ]
  },
  {
   "cell_type": "markdown",
   "metadata": {},
   "source": [
    "## "
   ]
  },
  {
   "cell_type": "markdown",
   "metadata": {},
   "source": [
    "# Diamond of stars "
   ]
  },
  {
   "cell_type": "code",
   "execution_count": 44,
   "metadata": {},
   "outputs": [
    {
     "name": "stdout",
     "output_type": "stream",
     "text": [
      "2\n",
      " *\n"
     ]
    }
   ],
   "source": [
    "n = int(input())\n",
    "# row loop\n",
    "i = 1\n",
    "while(i<=n//2):\n",
    "    \n",
    "    # space loop\n",
    "    space = 1\n",
    "    while(space <= n-i):\n",
    "        print(' ',end=\"\")\n",
    "        space = space + 1\n",
    "    \n",
    "    # incresing loop\n",
    "    j = 1\n",
    "    while(j <= i):\n",
    "        print('*',end=\"\")\n",
    "        j = j + 1\n",
    "        \n",
    "    # decreasing loop, start from i-1\n",
    "    k = i-1\n",
    "    while(k>=1):\n",
    "        print('*',end=\"\")\n",
    "        k = k - 1\n",
    "    \n",
    "    \n",
    "    print()\n",
    "    i = i + 1\n"
   ]
  },
  {
   "cell_type": "code",
   "execution_count": null,
   "metadata": {},
   "outputs": [],
   "source": []
  },
  {
   "cell_type": "code",
   "execution_count": 83,
   "metadata": {},
   "outputs": [
    {
     "name": "stdout",
     "output_type": "stream",
     "text": [
      "5\n",
      "* \n",
      " * * \n",
      "  * * * \n",
      " * * \n",
      "* \n"
     ]
    }
   ],
   "source": [
    "num = int(input())\n",
    "i = 1\n",
    "while(i <= n/2 + 1):\n",
    "    space = 1\n",
    "    while(space < i):\n",
    "        print(\" \", end = '')\n",
    "        space = space + 1\n",
    "    j = 1    \n",
    "    while (j <= i):\n",
    "        print('*', end = ' ')\n",
    "        j = j + 1\n",
    "    print()\n",
    "    i = i + 1\n",
    "\n",
    "while(i > n/2 + 1 and i <= n):\n",
    "    space = n - i\n",
    "    while space > 0: \n",
    "        print(\" \", end = '')\n",
    "        space = space - 1      \n",
    "    j = 1    \n",
    "    while(j <= n-i+1):\n",
    "        print('*', end = ' ')\n",
    "        j = j + 1\n",
    "    \n",
    "    print()\n",
    "    i = i + 1"
   ]
  },
  {
   "cell_type": "code",
   "execution_count": null,
   "metadata": {},
   "outputs": [],
   "source": []
  },
  {
   "cell_type": "code",
   "execution_count": 71,
   "metadata": {},
   "outputs": [
    {
     "name": "stdout",
     "output_type": "stream",
     "text": [
      "3\n",
      "\n",
      "  *\n",
      "   * *\n",
      "  *\n",
      "\n"
     ]
    }
   ],
   "source": [
    "def print_arrow(n): \n",
    "  \n",
    "    # Total no of rows  \n",
    "    for i in range(n + n - 1): \n",
    "        size = i \n",
    "        if i >= n: \n",
    "            size = n + n - i - 2\n",
    "  \n",
    "        # cols in each row  \n",
    "        for j in range(size + size): \n",
    "            if j < size:     # For printing space  \n",
    "                print(' ', end = '') \n",
    "            else:         # For printing * \n",
    "                print('*', end = '') \n",
    "        print() \n",
    "\n",
    "n = int(input())\n",
    "print_arrow(n)"
   ]
  },
  {
   "cell_type": "code",
   "execution_count": null,
   "metadata": {},
   "outputs": [],
   "source": []
  },
  {
   "cell_type": "code",
   "execution_count": null,
   "metadata": {},
   "outputs": [],
   "source": []
  }
 ],
 "metadata": {
  "kernelspec": {
   "display_name": "Python 3",
   "language": "python",
   "name": "python3"
  },
  "language_info": {
   "codemirror_mode": {
    "name": "ipython",
    "version": 3
   },
   "file_extension": ".py",
   "mimetype": "text/x-python",
   "name": "python",
   "nbconvert_exporter": "python",
   "pygments_lexer": "ipython3",
   "version": "3.7.7"
  }
 },
 "nbformat": 4,
 "nbformat_minor": 4
}
