{
 "cells": [
  {
   "cell_type": "markdown",
   "metadata": {},
   "source": [
    "# Inverted Pattern"
   ]
  },
  {
   "cell_type": "markdown",
   "metadata": {},
   "source": [
    "### inverted Triangle\n"
   ]
  },
  {
   "cell_type": "raw",
   "metadata": {},
   "source": [
    "n = 4\n",
    "\n",
    "\n",
    "****\n",
    "***\n",
    "**\n",
    "*\n",
    "\n",
    "Here, \n",
    "1) N = 4 (ROW)\n",
    "2) EACH ROW HAVE (N-I+1) COLUMN.MEANS FIRST ROW HAVE (4-1+1)= 4 COLUMNS, SECOND ROW HAS 3 COLUMNS.SO ON ...\n",
    "3) PRINT '*'"
   ]
  },
  {
   "cell_type": "markdown",
   "metadata": {},
   "source": [
    "##### METHOD 1 "
   ]
  },
  {
   "cell_type": "code",
   "execution_count": 6,
   "metadata": {
    "scrolled": false
   },
   "outputs": [
    {
     "name": "stdout",
     "output_type": "stream",
     "text": [
      "4\n",
      "****\n",
      "***\n",
      "**\n",
      "*\n"
     ]
    }
   ],
   "source": [
    "n = int(input())\n",
    "i = 1\n",
    "while(i <= n):\n",
    "    j = 1\n",
    "    while(j <= n-i+1):\n",
    "        print('*', end='')\n",
    "        j = j + 1\n",
    "    print()\n",
    "    i = i + 1"
   ]
  },
  {
   "cell_type": "markdown",
   "metadata": {},
   "source": [
    "##### METHOD 2"
   ]
  },
  {
   "cell_type": "code",
   "execution_count": 7,
   "metadata": {
    "scrolled": false
   },
   "outputs": [
    {
     "name": "stdout",
     "output_type": "stream",
     "text": [
      "4\n",
      "****\n",
      "***\n",
      "**\n",
      "*\n"
     ]
    }
   ],
   "source": [
    "n = int(input())\n",
    "i = n\n",
    "while(i > 0):\n",
    "    j = 1\n",
    "    while(j <= i):\n",
    "        print('*', end='')\n",
    "        j = j + 1\n",
    "    print()\n",
    "    i = i - 1"
   ]
  },
  {
   "cell_type": "markdown",
   "metadata": {},
   "source": [
    "#  Reversed Pattern"
   ]
  },
  {
   "cell_type": "markdown",
   "metadata": {},
   "source": [
    "<img src=\"img/rev-pat-1.jpg\" width=600 height=500 />"
   ]
  },
  {
   "cell_type": "markdown",
   "metadata": {},
   "source": [
    "<img src=\"img/rev-pat-2.jpg\" width=600 height=500 />"
   ]
  },
  {
   "cell_type": "code",
   "execution_count": 10,
   "metadata": {},
   "outputs": [
    {
     "name": "stdout",
     "output_type": "stream",
     "text": [
      "4\n",
      "   *\n",
      "  **\n",
      " ***\n",
      "****\n"
     ]
    }
   ],
   "source": [
    "n = int(input())\n",
    "#row loop\n",
    "i = 1\n",
    "while(i <= n):\n",
    "    # space loop\n",
    "    space = 1\n",
    "    while(space <= n-i):\n",
    "        print(' ',end=\"\")\n",
    "        space = space + 1\n",
    "        \n",
    "    # star loop\n",
    "    star = 1\n",
    "    while(star<=i):\n",
    "        print('*',end=\"\")\n",
    "        star = star + 1\n",
    "        \n",
    "    print()\n",
    "    i = i + 1"
   ]
  },
  {
   "cell_type": "markdown",
   "metadata": {},
   "source": [
    "# Isosceles Pattern"
   ]
  },
  {
   "cell_type": "markdown",
   "metadata": {},
   "source": [
    "<img src=\"img/iso-pat-1.jpg\" width=700 height=100 />"
   ]
  },
  {
   "cell_type": "markdown",
   "metadata": {},
   "source": [
    "<img src=\"img/iso-pat-2.jpg\" width=700 height=100 />"
   ]
  },
  {
   "cell_type": "code",
   "execution_count": 15,
   "metadata": {},
   "outputs": [
    {
     "name": "stdout",
     "output_type": "stream",
     "text": [
      "4\n",
      "   1\n",
      "  121\n",
      " 12321\n",
      "1234321\n"
     ]
    }
   ],
   "source": [
    "n = int(input())\n",
    "#row loop\n",
    "i = 1\n",
    "while(i <= n):\n",
    "    # space loop\n",
    "    space = 1\n",
    "    while(space <= n-i):\n",
    "        print(' ',end=\"\")\n",
    "        space = space + 1\n",
    "    \n",
    "    k = 1\n",
    "    j = 1\n",
    "    \n",
    "    # increasing sequence\n",
    "    while(j<=i):\n",
    "        print(k,end=\"\")\n",
    "        j = j + 1\n",
    "        k = k + 1\n",
    "    \n",
    "    # decreasing sequence,start from i-1\n",
    "    p = i-1\n",
    "    while(p>=1):\n",
    "        print(p,end=\"\")\n",
    "        p =  p - 1\n",
    "    \n",
    "    print()\n",
    "    i = i + 1"
   ]
  },
  {
   "cell_type": "code",
   "execution_count": 16,
   "metadata": {},
   "outputs": [
    {
     "name": "stdout",
     "output_type": "stream",
     "text": [
      "4\n",
      "   1 \n",
      "  1 2 1 \n",
      " 1 2 3 2 1 \n",
      "1 2 3 4 3 2 1 \n"
     ]
    }
   ],
   "source": [
    "# spaced version\n",
    "n = int(input())\n",
    "#row loop\n",
    "i = 1\n",
    "while(i <= n):\n",
    "    # space loop\n",
    "    space = 1\n",
    "    while(space <= n-i):\n",
    "        print(' ',end=\"\")\n",
    "        space = space + 1\n",
    "    \n",
    "    k = 1\n",
    "    j = 1\n",
    "    \n",
    "    # increasing sequence\n",
    "    while(j<=i):\n",
    "        print(k,end=\" \")\n",
    "        j = j + 1\n",
    "        k = k + 1\n",
    "    \n",
    "    # decreasing sequence,start from i-1\n",
    "    p = i-1\n",
    "    while(p>=1):\n",
    "        print(p,end=\" \")\n",
    "        p =  p - 1\n",
    "    \n",
    "    print()\n",
    "    i = i + 1"
   ]
  },
  {
   "cell_type": "code",
   "execution_count": null,
   "metadata": {},
   "outputs": [],
   "source": []
  }
 ],
 "metadata": {
  "kernelspec": {
   "display_name": "Python 3",
   "language": "python",
   "name": "python3"
  },
  "language_info": {
   "codemirror_mode": {
    "name": "ipython",
    "version": 3
   },
   "file_extension": ".py",
   "mimetype": "text/x-python",
   "name": "python",
   "nbconvert_exporter": "python",
   "pygments_lexer": "ipython3",
   "version": "3.7.7"
  }
 },
 "nbformat": 4,
 "nbformat_minor": 4
}
