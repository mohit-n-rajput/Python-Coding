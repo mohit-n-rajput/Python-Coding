{
 "cells": [
  {
   "cell_type": "markdown",
   "metadata": {},
   "source": [
    "# Q-1"
   ]
  },
  {
   "cell_type": "raw",
   "metadata": {},
   "source": [
    "Code : Inverted Number Pattern\n",
    "\n",
    "Print the following pattern for the given N number of rows.\n",
    "\n",
    "Pattern for N = 4\n",
    "\n",
    "4444\n",
    "333\n",
    "22\n",
    "1"
   ]
  },
  {
   "cell_type": "code",
   "execution_count": 1,
   "metadata": {},
   "outputs": [
    {
     "name": "stdout",
     "output_type": "stream",
     "text": [
      "4\n",
      "4444\n",
      "333\n",
      "22\n",
      "1\n"
     ]
    }
   ],
   "source": [
    "# method 1\n",
    "num = int(input())\n",
    "i = 1\n",
    "while(i<=num):\n",
    "    j = 1\n",
    "    #row to printed\n",
    "    while(j <= (num-i+1)):\n",
    "        print((num-i+1),end='')\n",
    "        j = j + 1\n",
    "    print()\n",
    "    i = i + 1\n"
   ]
  },
  {
   "cell_type": "code",
   "execution_count": 2,
   "metadata": {},
   "outputs": [
    {
     "name": "stdout",
     "output_type": "stream",
     "text": [
      "4\n",
      "4444\n",
      "333\n",
      "22\n",
      "1\n"
     ]
    }
   ],
   "source": [
    "# method 1\n",
    "num = int(input())\n",
    "i = 1\n",
    "while(i<=num):\n",
    "    j = 1\n",
    "    #row to printed\n",
    "    k = (num-i+1)\n",
    "    while(j <= k):\n",
    "        print(k,end='')\n",
    "        j = j + 1\n",
    "    print()\n",
    "    i = i + 1\n"
   ]
  },
  {
   "cell_type": "code",
   "execution_count": 4,
   "metadata": {},
   "outputs": [
    {
     "name": "stdout",
     "output_type": "stream",
     "text": [
      "4\n",
      "4444\n",
      "333\n",
      "22\n",
      "1\n"
     ]
    }
   ],
   "source": [
    "# method 2\n",
    "num = int(input())\n",
    "i = num\n",
    "while(i>0):\n",
    "    j = 1\n",
    "    while(j<=i):\n",
    "        print(i, end='')\n",
    "        j = j + 1\n",
    "\n",
    "    print()\n",
    "    i = i - 1"
   ]
  },
  {
   "cell_type": "markdown",
   "metadata": {},
   "source": [
    "# Q-2"
   ]
  },
  {
   "cell_type": "raw",
   "metadata": {},
   "source": [
    "Code : Mirror Number Pattern\n",
    "\n",
    "Print the following pattern for the given N number of rows.\n",
    "\n",
    "Pattern for N = 4\n",
    "\n",
    "   1\n",
    "  12\n",
    " 123\n",
    "1234"
   ]
  },
  {
   "cell_type": "markdown",
   "metadata": {},
   "source": [
    "##### method-1"
   ]
  },
  {
   "cell_type": "code",
   "execution_count": 10,
   "metadata": {
    "scrolled": false
   },
   "outputs": [
    {
     "name": "stdout",
     "output_type": "stream",
     "text": [
      "4\n",
      "   1\n",
      "  12\n",
      " 123\n",
      "1234\n"
     ]
    }
   ],
   "source": [
    "num = int(input())\n",
    "# row loop\n",
    "i = 1\n",
    "while(i <= num):\n",
    "    # two loops for column printing\n",
    "    # space loop\n",
    "    space = 1\n",
    "    while(space <= num-i):\n",
    "        print(' ', end='')\n",
    "        space = space + 1\n",
    "        \n",
    "    #num loop\n",
    "    k = 1\n",
    "    while(k <= i):\n",
    "        print(k,end=\"\")\n",
    "        k = k + 1\n",
    "        \n",
    "    print()\n",
    "    i = i + 1"
   ]
  },
  {
   "cell_type": "markdown",
   "metadata": {},
   "source": [
    "##### method-2"
   ]
  },
  {
   "cell_type": "code",
   "execution_count": 11,
   "metadata": {},
   "outputs": [
    {
     "name": "stdout",
     "output_type": "stream",
     "text": [
      "4\n",
      "   1\n",
      "  12\n",
      " 123\n",
      "1234\n"
     ]
    }
   ],
   "source": [
    "num = int(input())\n",
    "i = 1\n",
    "while(i<=num):\n",
    "    j = 1\n",
    "    print(\" \"*(num-i),end='')\n",
    "    while(j<=i):\n",
    "        \n",
    "        print(j, end='')\n",
    "        j = j + 1\n",
    "\n",
    "    print()\n",
    "    i = i + 1"
   ]
  },
  {
   "cell_type": "markdown",
   "metadata": {},
   "source": [
    "### method - 3"
   ]
  },
  {
   "cell_type": "code",
   "execution_count": 13,
   "metadata": {},
   "outputs": [
    {
     "name": "stdout",
     "output_type": "stream",
     "text": [
      "4\n",
      "   1\n",
      "  12\n",
      " 123\n",
      "1234\n"
     ]
    }
   ],
   "source": [
    "# taking temp variable\n",
    "n = int(input())\n",
    "#row loop\n",
    "i = 1\n",
    "while(i <= n):\n",
    "    # space loop\n",
    "    space = 1\n",
    "    while(space <= n-i):\n",
    "        print(' ',end=\"\")\n",
    "        space = space + 1\n",
    "        \n",
    "    # num loop\n",
    "    k = 1\n",
    "    j = 1\n",
    "    while(j<=i):\n",
    "        print(k,end=\"\")\n",
    "        j = j + 1\n",
    "        k = k + 1\n",
    "        \n",
    "    print()\n",
    "    i = i + 1"
   ]
  },
  {
   "cell_type": "markdown",
   "metadata": {},
   "source": [
    "# Q-3"
   ]
  },
  {
   "cell_type": "raw",
   "metadata": {},
   "source": [
    "Code : Star Pattern\n",
    "\n",
    "Print the following pattern\n",
    "Pattern for N = 4\n",
    "\n",
    "4\n",
    "\n",
    "   *\n",
    "  ***\n",
    " *****\n",
    "*******\n",
    "\n"
   ]
  },
  {
   "cell_type": "code",
   "execution_count": 15,
   "metadata": {},
   "outputs": [
    {
     "name": "stdout",
     "output_type": "stream",
     "text": [
      "4\n",
      "   *\n",
      "  ***\n",
      " *****\n",
      "*******\n"
     ]
    }
   ],
   "source": [
    "n = int(input())\n",
    "# row loop\n",
    "i = 1\n",
    "while(i<=n):\n",
    "    \n",
    "    # space loop\n",
    "    space = 1\n",
    "    while(space <= n-i):\n",
    "        print(' ',end=\"\")\n",
    "        space = space + 1\n",
    "    \n",
    "    # incresing loop\n",
    "    j = 1\n",
    "    while(j <= i):\n",
    "        print('*',end=\"\")\n",
    "        j = j + 1\n",
    "        \n",
    "    # decreasing loop, start from i-1\n",
    "    k = i-1\n",
    "    while(k>=1):\n",
    "        print('*',end=\"\")\n",
    "        k = k - 1\n",
    "        \n",
    "    print()\n",
    "    i = i + 1"
   ]
  },
  {
   "cell_type": "markdown",
   "metadata": {},
   "source": [
    "# Q-4"
   ]
  },
  {
   "cell_type": "raw",
   "metadata": {},
   "source": [
    "Code : Triangle of Numbers\n",
    "\n",
    "Print the following pattern for the given number of rows.\n",
    "Pattern for N = 4\n",
    "\n"
   ]
  },
  {
   "cell_type": "code",
   "execution_count": 147,
   "metadata": {},
   "outputs": [
    {
     "name": "stdout",
     "output_type": "stream",
     "text": [
      "5\n",
      "    1\n",
      "   232\n",
      "  34543\n",
      " 4567654\n",
      "567898765\n"
     ]
    }
   ],
   "source": [
    "n = int(input())\n",
    "# row loop\n",
    "i = 1\n",
    "while(i<=n):\n",
    "    \n",
    "    # space loop\n",
    "    space = 1\n",
    "    while(space <= n-i):\n",
    "        print(' ',end=\"\")\n",
    "        space = space + 1\n",
    "    \n",
    "    # increasing loop\n",
    "    j = 1\n",
    "    k=i\n",
    "    while(j <= i):\n",
    "        print(k,end=\"\")\n",
    "        c=k\n",
    "        k = k+1\n",
    "        j = j + 1\n",
    "        \n",
    "    # decreasing loop, start from i-1\n",
    "    p = i-1\n",
    "    while(p>=1):\n",
    "        c = c - 1\n",
    "        print(c,end=\"\")\n",
    "        p = p - 1\n",
    "\n",
    "    print()\n",
    "    i = i + 1"
   ]
  },
  {
   "cell_type": "markdown",
   "metadata": {},
   "source": [
    "##### "
   ]
  },
  {
   "cell_type": "code",
   "execution_count": 120,
   "metadata": {
    "scrolled": false
   },
   "outputs": [
    {
     "name": "stdout",
     "output_type": "stream",
     "text": [
      "5\n",
      "    *\n",
      "   ***\n",
      "  *****\n",
      "*****\n",
      "*******\n"
     ]
    }
   ],
   "source": [
    "n = int(input())\n",
    "# row loop\n",
    "i = 1\n",
    "while(i<=n-2):\n",
    "    \n",
    "    # space loop\n",
    "    space = 1\n",
    "    while(space <= n-i):\n",
    "        print(' ',end=\"\")\n",
    "        space = space + 1\n",
    "\n",
    "    # incresing loop\n",
    "    j = 1\n",
    "    while(j <= i):\n",
    "        print('*',end=\"\")\n",
    "        j = j + 1\n",
    "\n",
    "    # decreasing loop, start from i-1\n",
    "    k = i-1\n",
    "    while(k>=1):\n",
    "        print('*',end=\"\")\n",
    "        k = k - 1\n",
    "\n",
    "    print()\n",
    "    i = i + 1\n",
    "\n",
    "new_i = i\n",
    "# print(new_i) ==4\n",
    "# bottom part\n",
    "while(new_i<=n):\n",
    "    #space loop\n",
    "    \n",
    "    # incresing loop\n",
    "    j = 1\n",
    "    while(j <= new_i):\n",
    "        print('*',end=\"\")\n",
    "        j = j + 1\n",
    "        \n",
    "    # decreasing loop, start from i-1\n",
    "    k = new_i-3\n",
    "    while(k>=1):\n",
    "        print('*',end=\"\")\n",
    "        k = k - 1\n",
    "    \n",
    "    \n",
    "    \n",
    "    print()\n",
    "    new_i = new_i + 1"
   ]
  },
  {
   "cell_type": "code",
   "execution_count": null,
   "metadata": {},
   "outputs": [],
   "source": []
  },
  {
   "cell_type": "code",
   "execution_count": null,
   "metadata": {},
   "outputs": [],
   "source": []
  },
  {
   "cell_type": "code",
   "execution_count": null,
   "metadata": {},
   "outputs": [],
   "source": []
  }
 ],
 "metadata": {
  "kernelspec": {
   "display_name": "Python 3",
   "language": "python",
   "name": "python3"
  },
  "language_info": {
   "codemirror_mode": {
    "name": "ipython",
    "version": 3
   },
   "file_extension": ".py",
   "mimetype": "text/x-python",
   "name": "python",
   "nbconvert_exporter": "python",
   "pygments_lexer": "ipython3",
   "version": "3.7.7"
  }
 },
 "nbformat": 4,
 "nbformat_minor": 4
}
