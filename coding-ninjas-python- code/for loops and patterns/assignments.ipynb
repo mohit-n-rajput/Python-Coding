{
 "cells": [
  {
   "cell_type": "markdown",
   "metadata": {},
   "source": [
    "# Q-1\n"
   ]
  },
  {
   "cell_type": "markdown",
   "metadata": {},
   "source": [
    "Binary Pattern\n",
    "\n",
    "Print the following pattern for the given number of rows.\n",
    "\n",
    "Pattern for N \n",
    "\n",
    "Sample Input : 4\n",
    "\n",
    "Sample Output :\n",
    "```\n",
    "1111\n",
    "000\n",
    "11\n",
    "0\n",
    "```\n",
    "Sample Input : 5\n",
    "Sample Output :\n",
    "```\n",
    "11111\n",
    "0000\n",
    "111\n",
    "00\n",
    "1\n",
    "\n",
    "```\n",
    "\n"
   ]
  },
  {
   "cell_type": "markdown",
   "metadata": {},
   "source": [
    "## code"
   ]
  },
  {
   "cell_type": "code",
   "execution_count": 1,
   "metadata": {},
   "outputs": [
    {
     "name": "stdout",
     "output_type": "stream",
     "text": [
      "4\n",
      "1111\n",
      "000\n",
      "11\n",
      "0\n"
     ]
    }
   ],
   "source": [
    "# program\n",
    "n = int(input())\n",
    "row = 1\n",
    "for i in range(n, 0 , -1):\n",
    "    \n",
    "    if(row%2 == 0):\n",
    "        for j in range(i,0,-1):\n",
    "            print(0, end='')\n",
    "    else:\n",
    "        for k in range(i,0,-1):\n",
    "            print(1, end='')\n",
    "    print()\n",
    "    row = row + 1"
   ]
  },
  {
   "cell_type": "code",
   "execution_count": 2,
   "metadata": {},
   "outputs": [
    {
     "name": "stdout",
     "output_type": "stream",
     "text": [
      "5\n",
      "11111\n",
      "0000\n",
      "111\n",
      "00\n",
      "1\n"
     ]
    }
   ],
   "source": [
    "# program\n",
    "n = int(input())\n",
    "row = 1\n",
    "for i in range(n, 0 , -1):\n",
    "    \n",
    "    if(row%2 == 0):\n",
    "        for j in range(i,0,-1):\n",
    "            print(0, end='')\n",
    "    else:\n",
    "        for k in range(i,0,-1):\n",
    "            print(1, end='')\n",
    "    print()\n",
    "    row = row + 1"
   ]
  },
  {
   "cell_type": "markdown",
   "metadata": {},
   "source": [
    "# Q-2\n"
   ]
  },
  {
   "cell_type": "markdown",
   "metadata": {},
   "source": [
    "Print Number Pyramid\n",
    "\n",
    "Print the following pattern for the given number of rows.\n",
    "\n",
    "Pattern for N \n",
    "\n",
    "Sample Input : 6\n",
    "\n",
    "Sample Output :\n",
    "```\n",
    "123456\n",
    "  23456\n",
    "    3456\n",
    "      456\n",
    "        56\n",
    "          6\n",
    "        56\n",
    "      456\n",
    "    3456\n",
    "  23456\n",
    "123456\n",
    "```\n",
    "Sample Input : 4\n",
    "Sample Output :\n",
    "```\n",
    "1234\n",
    "  234\n",
    "    34\n",
    "      4\n",
    "    34\n",
    "  234\n",
    "1234\n",
    "\n",
    "```"
   ]
  },
  {
   "cell_type": "code",
   "execution_count": 3,
   "metadata": {},
   "outputs": [
    {
     "name": "stdout",
     "output_type": "stream",
     "text": [
      "6\n",
      "123456\n",
      " 23456\n",
      "  3456\n",
      "   456\n",
      "    56\n",
      "     6\n",
      "    56\n",
      "   456\n",
      "  3456\n",
      " 23456\n",
      "123456\n"
     ]
    }
   ],
   "source": [
    "# program\n",
    "\n",
    "n = int(input())\n",
    "k = 0\n",
    "for i in range(n,0,-1):\n",
    "    #space loop\n",
    "    for s in range(n-i,0,-1):\n",
    "        print(' ',end='')\n",
    "    \n",
    "   \n",
    "    for j in range(1,i+1,1):\n",
    "        e = k + j\n",
    "        print(e,end='')\n",
    "        \n",
    "    \n",
    "    \n",
    "    print()\n",
    "    k = k + 1\n",
    "\n",
    "k = k - 1   \n",
    "for p in range(2,n+1,1):\n",
    "    for s1 in range(n-p):\n",
    "        print(' ',end='')\n",
    "        \n",
    "    for q in range(k,n+1,1):\n",
    "        print(q,end='')\n",
    "        \n",
    "    print()\n",
    "    k = k - 1"
   ]
  },
  {
   "cell_type": "code",
   "execution_count": 4,
   "metadata": {},
   "outputs": [
    {
     "name": "stdout",
     "output_type": "stream",
     "text": [
      "4\n",
      "1234\n",
      " 234\n",
      "  34\n",
      "   4\n",
      "  34\n",
      " 234\n",
      "1234\n"
     ]
    }
   ],
   "source": [
    "# program\n",
    "\n",
    "n = int(input())\n",
    "k = 0\n",
    "for i in range(n,0,-1):\n",
    "    #space loop\n",
    "    for s in range(n-i,0,-1):\n",
    "        print(' ',end='')\n",
    "    \n",
    "   \n",
    "    for j in range(1,i+1,1):\n",
    "        e = k + j\n",
    "        print(e,end='')\n",
    "        \n",
    "    \n",
    "    \n",
    "    print()\n",
    "    k = k + 1\n",
    "\n",
    "k = k - 1   \n",
    "for p in range(2,n+1,1):\n",
    "    for s1 in range(n-p):\n",
    "        print(' ',end='')\n",
    "        \n",
    "    for q in range(k,n+1,1):\n",
    "        print(q,end='')\n",
    "        \n",
    "    print()\n",
    "    k = k - 1"
   ]
  },
  {
   "cell_type": "markdown",
   "metadata": {},
   "source": [
    "# Q-3\n"
   ]
  },
  {
   "cell_type": "markdown",
   "metadata": {},
   "source": [
    "<h3>Diamond of Stars</h3>\n",
    "\n",
    "Print the following pattern for the given number of rows.\n",
    "\n",
    "Note: N is always odd.\n",
    "\n",
    "Sample Input : 5\n",
    "\n",
    "Sample Output :\n",
    "```\n",
    "  *\n",
    " ***\n",
    "*****\n",
    " ***\n",
    "  *\n",
    "```\n",
    "Sample Input : 3\n",
    "Sample Output :\n",
    "```\n",
    " *\n",
    "***\n",
    " *\n",
    "```\n",
    "\n"
   ]
  },
  {
   "cell_type": "code",
   "execution_count": 5,
   "metadata": {},
   "outputs": [
    {
     "name": "stdout",
     "output_type": "stream",
     "text": [
      "5\n",
      "  *\n",
      " ***\n",
      "*****\n",
      " ***\n",
      "  *\n"
     ]
    }
   ],
   "source": [
    "#code\n",
    "n = int(input())\n",
    "first = (n//2) + 1\n",
    "\n",
    "for i in range(1,first + 1,1):\n",
    "    #space loop\n",
    "    for s in range(first-i):\n",
    "        print(' ',end='')\n",
    "    # increasing loop\n",
    "    for j in range(i, 2*i, 1):\n",
    "        print('*',end='')\n",
    "        \n",
    "    # decreasing loop\n",
    "    for k in range(2*i-2,i-1,-1):\n",
    "        print('*',end='')\n",
    "    \n",
    "    # new line\n",
    "    print()\n",
    "    \n",
    "\n",
    "k = n//2\n",
    "space = 1\n",
    "for p in range(k,0,-1):\n",
    "    #space \n",
    "    for g in range(k-p+1):\n",
    "        print(' ',end='')\n",
    "    \n",
    "    #star \n",
    "    for j in range(2*p-1,0,-1):\n",
    "        print('*',end='')\n",
    "    \n",
    "    print()"
   ]
  },
  {
   "cell_type": "code",
   "execution_count": 6,
   "metadata": {},
   "outputs": [
    {
     "name": "stdout",
     "output_type": "stream",
     "text": [
      "3\n",
      " *\n",
      "***\n",
      " *\n"
     ]
    }
   ],
   "source": [
    "#code\n",
    "n = int(input())\n",
    "first = (n//2) + 1\n",
    "\n",
    "for i in range(1,first + 1,1):\n",
    "    #space loop\n",
    "    for s in range(first-i):\n",
    "        print(' ',end='')\n",
    "    # increasing loop\n",
    "    for j in range(i, 2*i, 1):\n",
    "        print('*',end='')\n",
    "        \n",
    "    # decreasing loop\n",
    "    for k in range(2*i-2,i-1,-1):\n",
    "        print('*',end='')\n",
    "    \n",
    "    # new line\n",
    "    print()\n",
    "    \n",
    "\n",
    "k = n//2\n",
    "space = 1\n",
    "for p in range(k,0,-1):\n",
    "    #space \n",
    "    for g in range(k-p+1):\n",
    "        print(' ',end='')\n",
    "    \n",
    "    #star \n",
    "    for j in range(2*p-1,0,-1):\n",
    "        print('*',end='')\n",
    "    \n",
    "    print()"
   ]
  },
  {
   "cell_type": "markdown",
   "metadata": {},
   "source": [
    "# Q-4\n"
   ]
  },
  {
   "cell_type": "markdown",
   "metadata": {},
   "source": [
    "<h3>Rectangular numbers</h3>\n",
    "\n",
    "Print the following pattern for the given number of rows.\n",
    "\n",
    "\n",
    "\n",
    "Sample Input : 4\n",
    "\n",
    "Sample Output :\n",
    "```\n",
    "4444444\n",
    "4333334\n",
    "4322234\n",
    "4321234\n",
    "4322234\n",
    "4333334  \n",
    "4444444\n",
    "```\n",
    "Sample Input : 3\n",
    "Sample Output :\n",
    "```\n",
    "33333\n",
    "32223\n",
    "32123\n",
    "32223\n",
    "33333\n",
    "```\n"
   ]
  },
  {
   "cell_type": "code",
   "execution_count": null,
   "metadata": {},
   "outputs": [],
   "source": []
  },
  {
   "cell_type": "markdown",
   "metadata": {},
   "source": [
    "# Q-5\n"
   ]
  },
  {
   "cell_type": "markdown",
   "metadata": {},
   "source": [
    "<h3>Print the pattern</h3>\n",
    "\n",
    "Print the following pattern for the given number of rows.\n",
    "\n",
    "\n",
    "\n",
    "Sample Input : 5\n",
    "\n",
    "Sample Output :\n",
    "```\n",
    "  1    2   3    4   5\n",
    " 11   12  13   14  15\n",
    " 21   22  23   24  25\n",
    " 16   17  18   19  20\n",
    " 6    7    8   9   10\n",
    "```\n",
    "Sample Input : 3\n",
    "Sample Output :\n",
    "```\n",
    "1  2  3  4\n",
    " 9 10 11 12\n",
    "13 14 15 16\n",
    " 5  6  7  8\n",
    "```\n"
   ]
  },
  {
   "cell_type": "code",
   "execution_count": 46,
   "metadata": {},
   "outputs": [
    {
     "name": "stdout",
     "output_type": "stream",
     "text": [
      "5\n",
      "1 2 3 4 5 \n",
      "11 12 13 14 15 \n",
      "16 17 18 19 20 \n",
      "21 22 23 24 25 \n",
      "6 7 8 \n"
     ]
    }
   ],
   "source": [
    "n = int(input())\n",
    "k = 1\n",
    "start,end = 0,0\n",
    "for i in range(1,n+2,1):\n",
    "    if i==2:\n",
    "        start = k\n",
    "        k = k + n\n",
    "        end = k\n",
    "    \n",
    "    elif i==n+1:\n",
    "        for j in range(i,e,1):\n",
    "            print(j,end=' ')\n",
    "        print()  \n",
    "    \n",
    "    \n",
    "    else:\n",
    "        for j in range(1,n+1,1):\n",
    "            print(k,end=' ')\n",
    "            k = k + 1\n",
    "    \n",
    "        print()"
   ]
  },
  {
   "cell_type": "code",
   "execution_count": null,
   "metadata": {},
   "outputs": [],
   "source": []
  },
  {
   "cell_type": "code",
   "execution_count": 47,
   "metadata": {},
   "outputs": [
    {
     "name": "stdout",
     "output_type": "stream",
     "text": [
      "5\n",
      "54123456789\n",
      "1234567\n",
      "5123454\n",
      "54312334\n",
      "541234\n"
     ]
    }
   ],
   "source": [
    "n = int(input())\n",
    "#first half\n",
    "row = 2*n - 1\n",
    "\n",
    "for i in range(1,row+1,1):\n",
    "    for j in range(1,row+1,1):\n",
    "        \n",
    "    \n",
    "    print()"
   ]
  },
  {
   "cell_type": "code",
   "execution_count": null,
   "metadata": {},
   "outputs": [],
   "source": []
  },
  {
   "cell_type": "code",
   "execution_count": null,
   "metadata": {},
   "outputs": [],
   "source": []
  }
 ],
 "metadata": {
  "kernelspec": {
   "display_name": "Python 3",
   "language": "python",
   "name": "python3"
  },
  "language_info": {
   "codemirror_mode": {
    "name": "ipython",
    "version": 3
   },
   "file_extension": ".py",
   "mimetype": "text/x-python",
   "name": "python",
   "nbconvert_exporter": "python",
   "pygments_lexer": "ipython3",
   "version": "3.7.7"
  }
 },
 "nbformat": 4,
 "nbformat_minor": 4
}
