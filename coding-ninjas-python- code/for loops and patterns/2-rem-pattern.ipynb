{
 "cells": [
  {
   "cell_type": "code",
   "execution_count": 4,
   "metadata": {},
   "outputs": [
    {
     "name": "stdout",
     "output_type": "stream",
     "text": [
      "5\n",
      "1 2 3 4 5 \n",
      "11 12 13 14 15 \n",
      "21 22 23 24 25 \n",
      "16 17 18 19 20 \n",
      "6 7 8 9 10 \n"
     ]
    },
    {
     "data": {
      "text/plain": [
       "4"
      ]
     },
     "execution_count": 4,
     "metadata": {},
     "output_type": "execute_result"
    }
   ],
   "source": [
    "n = int(input())\n",
    "k = 0\n",
    "n1 = n - n//2\n",
    "for i in range(1, n1 + 1):\n",
    "    for j in range(1, n+1):\n",
    "        print(k * n + j, end = ' ')\n",
    "    print()\n",
    "    k = k + 2\n",
    "n2 = n - n1\n",
    "if n % 2 == 0:\n",
    "    k = n - 1\n",
    "else:\n",
    "    k = n - 2\n",
    "for i in range(1, n2 + 1):\n",
    "    for j in range(1, n + 1):\n",
    "        print(k * n + j, end = ' ')\n",
    "    print()\n",
    "    k = k - 2\n"
   ]
  },
  {
   "cell_type": "code",
   "execution_count": null,
   "metadata": {},
   "outputs": [],
   "source": []
  },
  {
   "cell_type": "code",
   "execution_count": 7,
   "metadata": {},
   "outputs": [
    {
     "name": "stdout",
     "output_type": "stream",
     "text": [
      "4\n",
      "4444444\n",
      "4333334\n",
      "4322234\n",
      "4321234\n",
      "4322234\n",
      "4333334\n",
      "4444444\n"
     ]
    }
   ],
   "source": [
    "n = int(input())\n",
    "var1 = n\n",
    "\n",
    "for i in range(1,n+1):\n",
    "    for j in range(1, i, 1):\n",
    "        for x in range(1, i, 2*i):\n",
    "            print(n-j+1, end = '')\n",
    "    for k in range(2*n - 2*i + 2, 1, -1):\n",
    "        print(var1, end = '') \n",
    "    var1 = var1 - 1\n",
    "    for j in range(i, 1, -1):\n",
    "        for x in range(1, i, 2*i):\n",
    "            print(n-j+2, end = '') \n",
    "    print()\n",
    "    \n",
    "var2 = 2\n",
    "for i in range(n, 1, -1):\n",
    "    for j in range(2, i, 1):\n",
    "        print(n - j + 2, end = '')\n",
    "    for k in range(2*n - i , i-3, -1):\n",
    "        print(var2, end = '')\n",
    "    for x in range(i-1, 1, -1):\n",
    "        print(n - x + 2, end = '')\n",
    "    var2 +=  1\n",
    "    print()"
   ]
  },
  {
   "cell_type": "code",
   "execution_count": null,
   "metadata": {},
   "outputs": [],
   "source": []
  }
 ],
 "metadata": {
  "kernelspec": {
   "display_name": "Python 3",
   "language": "python",
   "name": "python3"
  },
  "language_info": {
   "codemirror_mode": {
    "name": "ipython",
    "version": 3
   },
   "file_extension": ".py",
   "mimetype": "text/x-python",
   "name": "python",
   "nbconvert_exporter": "python",
   "pygments_lexer": "ipython3",
   "version": "3.7.7"
  }
 },
 "nbformat": 4,
 "nbformat_minor": 4
}
