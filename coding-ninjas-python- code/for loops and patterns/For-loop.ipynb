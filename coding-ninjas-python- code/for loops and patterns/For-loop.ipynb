{
 "cells": [
  {
   "cell_type": "markdown",
   "metadata": {},
   "source": [
    "# For loop"
   ]
  },
  {
   "cell_type": "raw",
   "metadata": {},
   "source": [
    "Syntax:\n",
    "\n",
    "for i in x:\n",
    "    looping\n",
    "    (do something)\n",
    "    \n",
    "i = one element from the sequence at any time\n",
    "x = sequence(collection of something)"
   ]
  },
  {
   "cell_type": "code",
   "execution_count": 1,
   "metadata": {},
   "outputs": [
    {
     "name": "stdout",
     "output_type": "stream",
     "text": [
      "a\n",
      "b\n",
      "c\n",
      "d\n",
      "e\n",
      "f\n",
      "g\n",
      "h\n"
     ]
    }
   ],
   "source": [
    "# for string\n",
    "s = \"abcdefgh\"\n",
    "\n",
    "for ch in s:\n",
    "    print(ch)"
   ]
  },
  {
   "cell_type": "code",
   "execution_count": 2,
   "metadata": {},
   "outputs": [
    {
     "name": "stdout",
     "output_type": "stream",
     "text": [
      "abcdefgh"
     ]
    }
   ],
   "source": [
    "# for string, no space \n",
    "s = \"abcdefgh\"\n",
    "\n",
    "for ch in s:\n",
    "    print(ch,end='') "
   ]
  },
  {
   "cell_type": "code",
   "execution_count": 3,
   "metadata": {},
   "outputs": [
    {
     "name": "stdout",
     "output_type": "stream",
     "text": [
      "a\tb\tc\td\te\tf\tg\th\t"
     ]
    }
   ],
   "source": [
    "# for string, tab wise\n",
    "s = \"abcdefgh\"\n",
    "\n",
    "for ch in s:\n",
    "    print(ch,end='\\t')"
   ]
  },
  {
   "cell_type": "markdown",
   "metadata": {},
   "source": [
    "## print numbers till n"
   ]
  },
  {
   "cell_type": "markdown",
   "metadata": {},
   "source": [
    "#### To Print the numbers from o to n we need a sequence for For loop , this sequence have numbers for 0 to n and we store this sequence in some variable."
   ]
  },
  {
   "cell_type": "markdown",
   "metadata": {},
   "source": [
    "### for create a sequence we use range() function"
   ]
  },
  {
   "cell_type": "raw",
   "metadata": {},
   "source": [
    "=> range(start, end-1, stride)\n",
    "\n",
    "start = starting number\n",
    "end-1= ending number, till end not include end number\n",
    "stride = step to reach end number\n"
   ]
  },
  {
   "cell_type": "code",
   "execution_count": 4,
   "metadata": {},
   "outputs": [
    {
     "name": "stdout",
     "output_type": "stream",
     "text": [
      "4\n",
      "0\n",
      "1\n",
      "2\n",
      "3\n"
     ]
    }
   ],
   "source": [
    "# print number from 0 to n\n",
    "n = int(input())\n",
    "for i in range(0, n , 1):\n",
    "    print(i)"
   ]
  },
  {
   "cell_type": "code",
   "execution_count": 5,
   "metadata": {},
   "outputs": [
    {
     "name": "stdout",
     "output_type": "stream",
     "text": [
      "4\n",
      "0\n",
      "1\n",
      "2\n",
      "3\n",
      "4\n"
     ]
    }
   ],
   "source": [
    "# 0 to n+1 means till n not n+1 in range()\n",
    "n = int(input())\n",
    "for i in range(0, n+1 , 1):\n",
    "    print(i)"
   ]
  },
  {
   "cell_type": "code",
   "execution_count": 6,
   "metadata": {},
   "outputs": [
    {
     "name": "stdout",
     "output_type": "stream",
     "text": [
      "5\n",
      "1\n",
      "2\n",
      "3\n",
      "4\n",
      "5\n"
     ]
    }
   ],
   "source": [
    "# 1 to n+1 means till n not n+1 in range()\n",
    "n = int(input())\n",
    "for i in range(1, n+1 , 1):\n",
    "    print(i)"
   ]
  },
  {
   "cell_type": "raw",
   "metadata": {},
   "source": [
    "for range() method :\n",
    "by default:\n",
    "1)start = 0, step = 1\n",
    "\n",
    "2) end='\\n' for print() method."
   ]
  },
  {
   "cell_type": "code",
   "execution_count": 7,
   "metadata": {
    "scrolled": true
   },
   "outputs": [
    {
     "name": "stdout",
     "output_type": "stream",
     "text": [
      "5\n",
      "0\n",
      "1\n",
      "2\n",
      "3\n",
      "4\n",
      "5\n"
     ]
    }
   ],
   "source": [
    "# give only one value to range()\n",
    "n = int(input())\n",
    "# means it automatically start from 0 ,and step is 1 and go till n\n",
    "\n",
    "for i in range(n+1):\n",
    "    print(i)"
   ]
  },
  {
   "cell_type": "code",
   "execution_count": 8,
   "metadata": {},
   "outputs": [
    {
     "name": "stdout",
     "output_type": "stream",
     "text": [
      "5\n",
      "1\n",
      "2\n",
      "3\n",
      "4\n",
      "5\n"
     ]
    }
   ],
   "source": [
    "# giving 2 arguments to range() method.\n",
    "# this 2 arguments, first use as start and second as a stop.ans step is by default is 1.\n",
    "\n",
    "n = int(input())\n",
    "# means it automatically start from 0 ,and step is 1 and go till n\n",
    "\n",
    "for i in range(1, n+1):\n",
    "    print(i)"
   ]
  },
  {
   "cell_type": "code",
   "execution_count": 9,
   "metadata": {},
   "outputs": [
    {
     "name": "stdout",
     "output_type": "stream",
     "text": [
      "5\n"
     ]
    }
   ],
   "source": [
    "# do nothing\n",
    "\n",
    "n = int(input())\n",
    "# means it automatically start from 0 ,and step is 1 and go till n\n",
    "\n",
    "for i in range(n+1,1):\n",
    "    print(i)"
   ]
  },
  {
   "cell_type": "markdown",
   "metadata": {},
   "source": [
    "### Print num from n to 1."
   ]
  },
  {
   "cell_type": "code",
   "execution_count": 10,
   "metadata": {},
   "outputs": [
    {
     "name": "stdout",
     "output_type": "stream",
     "text": [
      "5\n",
      "5\n",
      "4\n",
      "3\n",
      "2\n"
     ]
    }
   ],
   "source": [
    "n = int(input())\n",
    "# means it automatically start from 0 ,and step is 1 and go till n\n",
    "# start = n , end = 1 ,step = -1(decreasing)\n",
    "\n",
    "for i in range(n,1,-1):\n",
    "    print(i)"
   ]
  },
  {
   "cell_type": "code",
   "execution_count": 11,
   "metadata": {},
   "outputs": [
    {
     "name": "stdout",
     "output_type": "stream",
     "text": [
      "5\n",
      "5\n",
      "4\n",
      "3\n",
      "2\n",
      "1\n"
     ]
    }
   ],
   "source": [
    "n = int(input())\n",
    "# means it automatically start from 0 ,and step is 1 and go till n\n",
    "# start = n , end = 0(not include 0) ,step = -1(decreasing)\n",
    "\n",
    "for i in range(n,0,-1):\n",
    "    print(i)"
   ]
  },
  {
   "cell_type": "markdown",
   "metadata": {},
   "source": [
    "# print multiple of 3"
   ]
  },
  {
   "cell_type": "code",
   "execution_count": 12,
   "metadata": {},
   "outputs": [
    {
     "name": "stdout",
     "output_type": "stream",
     "text": [
      "3\n",
      "10\n",
      "3\n",
      "4\n",
      "5\n",
      "6\n",
      "7\n",
      "8\n",
      "9\n",
      "10\n"
     ]
    }
   ],
   "source": [
    "# take a , b and print multiple of 3 , a<b\n",
    "\n",
    "a = int(input())\n",
    "b= int(input())\n",
    "\n",
    "for i in range(a , b+1 , 1):\n",
    "    print(i)"
   ]
  },
  {
   "cell_type": "code",
   "execution_count": 13,
   "metadata": {},
   "outputs": [
    {
     "name": "stdout",
     "output_type": "stream",
     "text": [
      "3\n",
      "100\n",
      "3\n",
      "6\n",
      "9\n",
      "12\n",
      "15\n",
      "18\n",
      "21\n",
      "24\n",
      "27\n",
      "30\n",
      "33\n",
      "36\n",
      "39\n",
      "42\n",
      "45\n",
      "48\n",
      "51\n",
      "54\n",
      "57\n",
      "60\n",
      "63\n",
      "66\n",
      "69\n",
      "72\n",
      "75\n",
      "78\n",
      "81\n",
      "84\n",
      "87\n",
      "90\n",
      "93\n",
      "96\n",
      "99\n"
     ]
    }
   ],
   "source": [
    "# take a , b and print multiple of 3 , a<b\n",
    "\n",
    "a = int(input())\n",
    "b= int(input())\n",
    "\n",
    "for i in range(a , b+1 , 3):\n",
    "    print(i)"
   ]
  },
  {
   "cell_type": "code",
   "execution_count": 14,
   "metadata": {},
   "outputs": [
    {
     "name": "stdout",
     "output_type": "stream",
     "text": [
      "1\n",
      "10\n",
      "1\n",
      "4\n",
      "7\n",
      "10\n"
     ]
    }
   ],
   "source": [
    "# buggy logic\n",
    "# take a , b and print multiple of 3 , a<b\n",
    "\n",
    "a = int(input())\n",
    "b= int(input())\n",
    "\n",
    "for i in range(a , b+1 , 3):\n",
    "    print(i)"
   ]
  },
  {
   "cell_type": "code",
   "execution_count": 15,
   "metadata": {},
   "outputs": [
    {
     "name": "stdout",
     "output_type": "stream",
     "text": [
      "1\n",
      "50\n",
      "3\n",
      "6\n",
      "9\n",
      "12\n",
      "15\n",
      "18\n",
      "21\n",
      "24\n",
      "27\n",
      "30\n",
      "33\n",
      "36\n",
      "39\n",
      "42\n",
      "45\n",
      "48\n"
     ]
    }
   ],
   "source": [
    "# puttting condition but take more loop\n",
    "# take a , b and print multiple of 3 , a<b\n",
    "\n",
    "a = int(input())\n",
    "b= int(input())\n",
    "\n",
    "for i in range(a , b+1 , 1):\n",
    "    if i%3 == 0:\n",
    "        print(i)"
   ]
  },
  {
   "cell_type": "code",
   "execution_count": 16,
   "metadata": {},
   "outputs": [
    {
     "name": "stdout",
     "output_type": "stream",
     "text": [
      "2\n",
      "50\n",
      "2\n",
      "4\n",
      "6\n",
      "8\n",
      "10\n",
      "12\n",
      "14\n",
      "16\n",
      "18\n",
      "20\n",
      "22\n",
      "24\n",
      "26\n",
      "28\n",
      "30\n",
      "32\n",
      "34\n",
      "36\n",
      "38\n",
      "40\n",
      "42\n",
      "44\n",
      "46\n",
      "48\n",
      "50\n"
     ]
    }
   ],
   "source": [
    "# multiple of 2\n",
    "a = int(input())\n",
    "b= int(input())\n",
    "\n",
    "for i in range(a , b+1 , 1):\n",
    "    if i%2 == 0:\n",
    "        print(i)"
   ]
  },
  {
   "cell_type": "code",
   "execution_count": 17,
   "metadata": {},
   "outputs": [
    {
     "name": "stdout",
     "output_type": "stream",
     "text": [
      "1\n",
      "50\n",
      "3\n",
      "6\n",
      "9\n",
      "12\n",
      "15\n",
      "18\n",
      "21\n",
      "24\n",
      "27\n",
      "30\n",
      "33\n",
      "36\n",
      "39\n",
      "42\n",
      "45\n",
      "48\n"
     ]
    }
   ],
   "source": [
    "# effcient code of multiple of 3\n",
    "\n",
    "a = int(input())\n",
    "b= int(input())\n",
    "\n",
    "if a%3 == 0:\n",
    "    # suppose 12\n",
    "    start = a\n",
    "elif a%3 == 1:\n",
    "    # suppose 10\n",
    "    start = a + 2\n",
    "else:\n",
    "    # suppose 11, don't elif because a%3 != 3\n",
    "    start = a + 1\n",
    "\n",
    "for i in range(start , b+1 , 3):\n",
    "    print(i)\n"
   ]
  },
  {
   "cell_type": "markdown",
   "metadata": {},
   "source": [
    "# check prime or not"
   ]
  },
  {
   "cell_type": "code",
   "execution_count": 18,
   "metadata": {},
   "outputs": [
    {
     "name": "stdout",
     "output_type": "stream",
     "text": [
      "5\n",
      "Number is prime\n",
      "Number is prime\n",
      "Number is prime\n"
     ]
    }
   ],
   "source": [
    "#buggy code\n",
    "n = int(input())\n",
    "# divide n by 2 to n-1\n",
    "\n",
    "for i in range(2,n,1):\n",
    "    if(n%i == 0):\n",
    "        print(\"Number is not prime\")\n",
    "    else:\n",
    "        print(\"Number is prime\")"
   ]
  },
  {
   "cell_type": "code",
   "execution_count": 19,
   "metadata": {},
   "outputs": [
    {
     "name": "stdout",
     "output_type": "stream",
     "text": [
      "7\n",
      "Number is Prime\n"
     ]
    }
   ],
   "source": [
    "# using flag\n",
    "n = int(input())\n",
    "flag = False\n",
    "# divide n by 2 to n-1\n",
    "\n",
    "for i in range(2,n,1):\n",
    "    if(n%i == 0):\n",
    "        flag = True\n",
    "\n",
    "if(flag == True):\n",
    "    print(\"Number is not Prime\")\n",
    "else:\n",
    "    print(\"Number is Prime\")"
   ]
  },
  {
   "cell_type": "code",
   "execution_count": 20,
   "metadata": {},
   "outputs": [
    {
     "name": "stdout",
     "output_type": "stream",
     "text": [
      "10\n",
      "Number is not Prime\n"
     ]
    }
   ],
   "source": [
    "# using flag\n",
    "n = int(input())\n",
    "flag = False\n",
    "# divide n by 2 to n-1\n",
    "\n",
    "for i in range(2,n,1):\n",
    "    if(n%i == 0):\n",
    "        flag = True\n",
    "\n",
    "if(flag):\n",
    "    print(\"Number is not Prime\")\n",
    "else:\n",
    "    print(\"Number is Prime\")"
   ]
  },
  {
   "cell_type": "code",
   "execution_count": null,
   "metadata": {},
   "outputs": [],
   "source": []
  }
 ],
 "metadata": {
  "kernelspec": {
   "display_name": "Python 3",
   "language": "python",
   "name": "python3"
  },
  "language_info": {
   "codemirror_mode": {
    "name": "ipython",
    "version": 3
   },
   "file_extension": ".py",
   "mimetype": "text/x-python",
   "name": "python",
   "nbconvert_exporter": "python",
   "pygments_lexer": "ipython3",
   "version": "3.7.7"
  }
 },
 "nbformat": 4,
 "nbformat_minor": 4
}
