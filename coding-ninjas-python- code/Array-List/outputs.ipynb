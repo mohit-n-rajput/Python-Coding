{
 "cells": [
  {
   "cell_type": "markdown",
   "metadata": {},
   "source": [
    "# Q-1"
   ]
  },
  {
   "cell_type": "markdown",
   "metadata": {},
   "source": [
    "Predict the Output\n",
    "\n",
    "What will be the output of following code?\n",
    "```\n",
    "li =[‘abcd’,’def’]\n",
    "li.insert(4,5)\n",
    "print(li)\n",
    "```\n",
    "Ans: ['abcd', 'def', 5]"
   ]
  },
  {
   "cell_type": "code",
   "execution_count": 3,
   "metadata": {},
   "outputs": [
    {
     "name": "stdout",
     "output_type": "stream",
     "text": [
      "['abcd', 'def', 5]\n"
     ]
    }
   ],
   "source": [
    "li =['abcd','def']\n",
    "li.insert(4,5)\n",
    "print(li)"
   ]
  },
  {
   "cell_type": "markdown",
   "metadata": {},
   "source": [
    "# Q-2"
   ]
  },
  {
   "cell_type": "markdown",
   "metadata": {},
   "source": [
    "Predict the Output\n",
    "\n",
    "What will be the output of following code?\n",
    "```\n",
    "li = [‘abcd’,5,’def’,5]\n",
    "li.remove(5)\n",
    "print(li)\n",
    "```\n",
    "\n",
    "ans: ['abcd','def', 5]"
   ]
  },
  {
   "cell_type": "code",
   "execution_count": 5,
   "metadata": {},
   "outputs": [
    {
     "name": "stdout",
     "output_type": "stream",
     "text": [
      "['abcd', 'def', 5]\n"
     ]
    }
   ],
   "source": [
    "li = ['abcd',5,'def',5]\n",
    "li.remove(5)\n",
    "print(li)"
   ]
  },
  {
   "cell_type": "markdown",
   "metadata": {},
   "source": [
    "# Q-3"
   ]
  },
  {
   "cell_type": "markdown",
   "metadata": {},
   "source": [
    "Predict the Output\n",
    "\n",
    "What will be the output of following code?\n",
    "```\n",
    "li = [5,2,6,8]\n",
    "li.pop(2)\n",
    "print(li)\n",
    "```\n",
    "\n",
    "ans: [5,2,8]"
   ]
  },
  {
   "cell_type": "code",
   "execution_count": 10,
   "metadata": {},
   "outputs": [
    {
     "name": "stdout",
     "output_type": "stream",
     "text": [
      "[5, 2, 8]\n"
     ]
    }
   ],
   "source": [
    "li = [5,2,6,8]\n",
    "li.pop(2)\n",
    "print(li)"
   ]
  },
  {
   "cell_type": "markdown",
   "metadata": {},
   "source": [
    "# Q-4"
   ]
  },
  {
   "cell_type": "markdown",
   "metadata": {},
   "source": [
    "Predict the Output\n",
    "\n",
    "What will be the output of following code?\n",
    "```\n",
    "li = [1,2,3,4,5]\n",
    "for i in li[1:4]:\n",
    "    print(i,end= “ “)\n",
    "```\n",
    "ans:2 3 4"
   ]
  },
  {
   "cell_type": "code",
   "execution_count": 11,
   "metadata": {},
   "outputs": [
    {
     "name": "stdout",
     "output_type": "stream",
     "text": [
      "2 3 4 "
     ]
    }
   ],
   "source": [
    "li = [1,2,3,4,5]\n",
    "for i in li[1:4]:\n",
    "    print(i,end= \" \")"
   ]
  },
  {
   "cell_type": "markdown",
   "metadata": {},
   "source": [
    "# Q-5"
   ]
  },
  {
   "cell_type": "markdown",
   "metadata": {},
   "source": [
    "Array Sum\n",
    "\n",
    "Given an array of length N, you need to find and print the sum of all elements of the array.\n",
    "\n",
    "Input Format :\n",
    "Line 1 : An Integer N i.e. size of array\n",
    "Line 2 : N integers which are elements of the array, separated by spaces\n",
    "\n",
    "Sample Input :\n",
    "3\n",
    "9 8 9\n",
    "\n",
    "Sample Output :\n",
    "26"
   ]
  },
  {
   "cell_type": "code",
   "execution_count": 19,
   "metadata": {},
   "outputs": [
    {
     "ename": "AttributeError",
     "evalue": "'function' object has no attribute 'split'",
     "output_type": "error",
     "traceback": [
      "\u001b[1;31m---------------------------------------------------------------------------\u001b[0m",
      "\u001b[1;31mAttributeError\u001b[0m                            Traceback (most recent call last)",
      "\u001b[1;32m<ipython-input-19-14a832a118ff>\u001b[0m in \u001b[0;36m<module>\u001b[1;34m\u001b[0m\n\u001b[1;32m----> 1\u001b[1;33m \u001b[0mli\u001b[0m \u001b[1;33m=\u001b[0m \u001b[1;33m[\u001b[0m\u001b[0mx\u001b[0m \u001b[1;32mfor\u001b[0m \u001b[0mx\u001b[0m \u001b[1;32min\u001b[0m \u001b[0minput\u001b[0m\u001b[1;33m.\u001b[0m\u001b[0msplit\u001b[0m\u001b[1;33m(\u001b[0m\u001b[1;33m)\u001b[0m\u001b[1;33m]\u001b[0m\u001b[1;33m\u001b[0m\u001b[1;33m\u001b[0m\u001b[0m\n\u001b[0m",
      "\u001b[1;31mAttributeError\u001b[0m: 'function' object has no attribute 'split'"
     ]
    }
   ],
   "source": [
    "li = [x for x in input.split()]"
   ]
  },
  {
   "cell_type": "code",
   "execution_count": 20,
   "metadata": {},
   "outputs": [
    {
     "name": "stdout",
     "output_type": "stream",
     "text": [
      "3\n",
      "9 8 9\n",
      "26\n"
     ]
    }
   ],
   "source": [
    "n = int(input())\n",
    "s = 0\n",
    "li = [int(x) for x in input().split()]\n",
    "for ele in li:\n",
    "    s += ele\n",
    "\n",
    "print(s)"
   ]
  },
  {
   "cell_type": "code",
   "execution_count": 17,
   "metadata": {},
   "outputs": [
    {
     "data": {
      "text/plain": [
       "[5, 5, 5, 5]"
      ]
     },
     "execution_count": 17,
     "metadata": {},
     "output_type": "execute_result"
    }
   ],
   "source": [
    "li"
   ]
  },
  {
   "cell_type": "markdown",
   "metadata": {},
   "source": [
    "# Q-6-line separated input"
   ]
  },
  {
   "cell_type": "markdown",
   "metadata": {},
   "source": [
    "Predict the Output\n",
    "\n",
    "What will be the output of code if following input is provided?\n",
    "```\n",
    "5\n",
    "1\n",
    "2 \n",
    "3 \n",
    "4 \n",
    "5\n",
    "n = int(input())\n",
    "li = []\n",
    "for i in range(n):\n",
    "    li.append(input())\n",
    "print(li)\n",
    "```\n",
    "ans: "
   ]
  },
  {
   "cell_type": "code",
   "execution_count": 21,
   "metadata": {},
   "outputs": [
    {
     "name": "stdout",
     "output_type": "stream",
     "text": [
      "5\n",
      "1\n",
      "2\n",
      "3\n",
      "5\n",
      "5\n",
      "['1', '2', '3', '5', '5']\n"
     ]
    }
   ],
   "source": [
    "n = int(input())\n",
    "li = []\n",
    "for i in range(n):\n",
    "    li.append(input())\n",
    "print(li)"
   ]
  },
  {
   "cell_type": "code",
   "execution_count": null,
   "metadata": {},
   "outputs": [],
   "source": []
  },
  {
   "cell_type": "markdown",
   "metadata": {},
   "source": [
    "# Q-7 space separated input"
   ]
  },
  {
   "cell_type": "markdown",
   "metadata": {},
   "source": [
    "```\n",
    "li = [x for x in input().split()]\n",
    "print(li)\n",
    "```\n",
    "ans: ['1','3','6','8','9']"
   ]
  },
  {
   "cell_type": "code",
   "execution_count": 23,
   "metadata": {},
   "outputs": [
    {
     "name": "stdout",
     "output_type": "stream",
     "text": [
      "1 3 6 8 9\n",
      "['1', '3', '6', '8', '9']\n"
     ]
    }
   ],
   "source": [
    "li = [x for x in input().split()]\n",
    "print(li)"
   ]
  },
  {
   "cell_type": "markdown",
   "metadata": {},
   "source": [
    "# Q-8"
   ]
  },
  {
   "cell_type": "markdown",
   "metadata": {},
   "source": [
    "Predict the Output\n",
    "\n",
    "What will be the output of following code?\n",
    "```\n",
    "def change(li):\n",
    "    li[1] = li[1] + 2\n",
    "li = [1,2,3,4,5]\n",
    "change(li)\n",
    "print(li)\n",
    "```\n",
    "\n",
    "#### ans: [1,4,3,4,5]"
   ]
  },
  {
   "cell_type": "code",
   "execution_count": 2,
   "metadata": {},
   "outputs": [
    {
     "name": "stdout",
     "output_type": "stream",
     "text": [
      "[1, 4, 3, 4, 5]\n"
     ]
    }
   ],
   "source": [
    "def change(li):\n",
    "    li[1] = li[1] + 2\n",
    "li = [1,2,3,4,5]\n",
    "change(li)\n",
    "print(li)"
   ]
  },
  {
   "cell_type": "markdown",
   "metadata": {},
   "source": [
    "# Q-9"
   ]
  },
  {
   "cell_type": "markdown",
   "metadata": {},
   "source": [
    "Predict the Output\n",
    "\n",
    "What will be the output of following code?\n",
    "```\n",
    "def change(li):\n",
    "    li[1] = li[1] + 2\n",
    "    li = [3,3,3,4,5]\n",
    "li = [1,2,3,4,5]\n",
    "change(li)\n",
    "print(li)\n",
    "```\n",
    "\n",
    "#### ans: [1,4,3,4,5]"
   ]
  },
  {
   "cell_type": "code",
   "execution_count": 4,
   "metadata": {},
   "outputs": [
    {
     "name": "stdout",
     "output_type": "stream",
     "text": [
      "[1, 4, 3, 4, 5]\n"
     ]
    }
   ],
   "source": [
    "# reference changed but not assigned\n",
    "def change(li):\n",
    "    li[1] = li[1] + 2\n",
    "    li = [3,3,3,4,5]\n",
    "li = [1,2,3,4,5]\n",
    "change(li)\n",
    "print(li)"
   ]
  },
  {
   "cell_type": "markdown",
   "metadata": {},
   "source": [
    "# Q-10 "
   ]
  },
  {
   "cell_type": "markdown",
   "metadata": {},
   "source": [
    "Swap Alternate\n",
    "\n",
    "Given an array of length N, swap every pair of alternate elements in the array.\n",
    "\n",
    "You don't need to print or return anything, just change in the input array itself.\n",
    "\n",
    "Input Format :\n",
    "Line 1 : An Integer N i.e. size of array\n",
    "Line 2 : N integers which are elements of the array, separated by spaces\n",
    "\n",
    "Output Format :\n",
    "Elements after swapping in a single line, separated by space.\n",
    "\n",
    "Constraints :\n",
    "0 <= N <= 10^7"
   ]
  },
  {
   "cell_type": "code",
   "execution_count": 32,
   "metadata": {},
   "outputs": [
    {
     "name": "stdout",
     "output_type": "stream",
     "text": [
      "original list:  [1, 2, 3, 4, 5, 6, 7]\n",
      "[2, 1, 4, 3, 6, 5, 7]\n"
     ]
    }
   ],
   "source": [
    "def rev(li):\n",
    "    li_len = len(li)\n",
    "    # swap ith to len-1 part\n",
    "    for i in range(0,li_len-2,2):\n",
    "        li[i],li[i+1] = li[i+1],li[i]\n",
    "        \n",
    "        \n",
    "    return li\n",
    "        \n",
    "li = [i for i in range(1,8)]\n",
    "print(\"original list: \",li)\n",
    "\n",
    "n = rev(li)\n",
    "print(n)"
   ]
  },
  {
   "cell_type": "code",
   "execution_count": 35,
   "metadata": {},
   "outputs": [
    {
     "name": "stdout",
     "output_type": "stream",
     "text": [
      "original list:  [1, 2, 3, 4, 5, 6, 7, 8, 9]\n",
      "[2, 1, 4, 3, 6, 5, 8, 7, 9]\n"
     ]
    }
   ],
   "source": [
    "def rev(li):\n",
    "    li_len = len(li)\n",
    "    # swap ith to len-1 part\n",
    "    for i in range(0,li_len-1,2):\n",
    "        li[i],li[i+1] = li[i+1],li[i]\n",
    "        \n",
    "        \n",
    "    return li\n",
    "        \n",
    "li = [i for i in range(1,10)]\n",
    "print(\"original list: \",li)\n",
    "\n",
    "n = rev(li)\n",
    "print(n)"
   ]
  },
  {
   "cell_type": "markdown",
   "metadata": {},
   "source": [
    "##### final program"
   ]
  },
  {
   "cell_type": "code",
   "execution_count": 41,
   "metadata": {},
   "outputs": [
    {
     "name": "stdout",
     "output_type": "stream",
     "text": [
      "9\n",
      "9 3 6 12 4 32 5 11 19\n",
      "3 9 12 6 32 4 11 5 19 "
     ]
    }
   ],
   "source": [
    "def rev(li,li_len):\n",
    "   \n",
    "    # swap ith to len-1 part\n",
    "    for i in range(0,li_len-1,2):\n",
    "        li[i],li[i+1] = li[i+1],li[i]\n",
    "        \n",
    "        \n",
    "    return li\n",
    "        \n",
    "list_len = int(input())\n",
    "\n",
    "\n",
    "if list_len == 0:\n",
    "    pass\n",
    "\n",
    "else:\n",
    "    l = [int(x) for x in input().split()]\n",
    "    new_list = rev(l,list_len)\n",
    "\n",
    "    for i in new_list:\n",
    "        print(i,end=' ')"
   ]
  },
  {
   "cell_type": "code",
   "execution_count": 42,
   "metadata": {},
   "outputs": [
    {
     "name": "stdout",
     "output_type": "stream",
     "text": [
      "9\n",
      "9 3 6 12 4 32 5 11 19\n",
      "3 9 12 6 32 4 11 5 19 "
     ]
    }
   ],
   "source": [
    "#other way\n",
    "\n",
    "def rev(li,li_len):\n",
    "   \n",
    "    # swap ith to len-1 part\n",
    "    for i in range(0,li_len-1,2):\n",
    "        li[i],li[i+1] = li[i+1],li[i]\n",
    "        \n",
    "        \n",
    "list_len = int(input())\n",
    "\n",
    "\n",
    "if list_len == 0:\n",
    "    pass\n",
    "\n",
    "else:\n",
    "    l = [int(x) for x in input().split()]\n",
    "    rev(l,list_len)\n",
    "\n",
    "    for i in l:\n",
    "        print(i,end=' ')"
   ]
  },
  {
   "cell_type": "code",
   "execution_count": null,
   "metadata": {},
   "outputs": [],
   "source": []
  },
  {
   "cell_type": "code",
   "execution_count": 37,
   "metadata": {
    "scrolled": true
   },
   "outputs": [
    {
     "name": "stdout",
     "output_type": "stream",
     "text": [
      "7\n",
      "0 1 1 0 1 0 1\n",
      "0 0 0 1 1 1 1 "
     ]
    }
   ],
   "source": [
    "n = int(input())\n",
    "a = []\n",
    "b = []\n",
    "li = [int(x) for x in input().split()]\n",
    "for i in li:\n",
    "    if(i==0):\n",
    "        a.append(i)\n",
    "    else:\n",
    "        b.append(i)\n",
    "        \n",
    "a.extend(b)\n",
    "for j in a:\n",
    "    print(j,end=' ')"
   ]
  },
  {
   "cell_type": "code",
   "execution_count": null,
   "metadata": {},
   "outputs": [],
   "source": []
  },
  {
   "cell_type": "code",
   "execution_count": null,
   "metadata": {},
   "outputs": [],
   "source": []
  },
  {
   "cell_type": "code",
   "execution_count": 40,
   "metadata": {
    "scrolled": true
   },
   "outputs": [
    {
     "name": "stdout",
     "output_type": "stream",
     "text": [
      "5\n",
      "1 0 1 0 1\n",
      "1 0 \n"
     ]
    }
   ],
   "source": []
  },
  {
   "cell_type": "code",
   "execution_count": null,
   "metadata": {},
   "outputs": [],
   "source": []
  },
  {
   "cell_type": "code",
   "execution_count": 47,
   "metadata": {},
   "outputs": [
    {
     "name": "stdout",
     "output_type": "stream",
     "text": [
      "9\n",
      "0 7 2 5 4 7 1 3 6\n",
      "7\n"
     ]
    }
   ],
   "source": [
    "n = int(input())\n",
    "li = [int(x) for x in input().split()]\n",
    "u = []\n",
    "for i in li:\n",
    "    if i not in u:\n",
    "        u.append(i)\n",
    "    else:\n",
    "        print(i)"
   ]
  },
  {
   "cell_type": "code",
   "execution_count": null,
   "metadata": {},
   "outputs": [],
   "source": []
  },
  {
   "cell_type": "code",
   "execution_count": null,
   "metadata": {},
   "outputs": [],
   "source": []
  },
  {
   "cell_type": "code",
   "execution_count": null,
   "metadata": {},
   "outputs": [],
   "source": []
  },
  {
   "cell_type": "markdown",
   "metadata": {},
   "source": [
    "# default code"
   ]
  },
  {
   "cell_type": "code",
   "execution_count": null,
   "metadata": {},
   "outputs": [],
   "source": [
    "def rotate(arr, size, d):\n",
    "    # Please add your code here\n",
    "    if len(arr) == 0:\n",
    "        return 1\n",
    "    d = -d % len(arr)\n",
    "    return arr[d:] + arr[:d]\n",
    "\n",
    "\n",
    "\n",
    "\n",
    "def takeInput() :\n",
    "    n = int(input().strip())\n",
    "    if n != 0:\n",
    "        arr = [int(element) for element in list(input().strip().split())]\n",
    "        return arr, n\n",
    "\n",
    "    return list(), 0\n",
    "\n",
    "\n",
    "\n",
    "def printList(arr, n) : \n",
    "\tfor element in arr :\n",
    "\t\tprint(element, end = \" \")\n",
    "\tprint()\n",
    "\n",
    "\n",
    "#main\n",
    "arr, n = takeInput()\n",
    "d = int(input().strip())\n",
    "\n",
    "rotate(arr, n, d)\n",
    "printList(arr, n)"
   ]
  },
  {
   "cell_type": "code",
   "execution_count": null,
   "metadata": {},
   "outputs": [],
   "source": []
  },
  {
   "cell_type": "code",
   "execution_count": null,
   "metadata": {},
   "outputs": [],
   "source": []
  },
  {
   "cell_type": "code",
   "execution_count": 48,
   "metadata": {},
   "outputs": [
    {
     "name": "stdout",
     "output_type": "stream",
     "text": [
      "7\n",
      "1 2 43 123 123  213\n",
      "[1, 2, 43, 123, 123, 213]\n"
     ]
    }
   ],
   "source": [
    "n = int(input())\n",
    "a = [int(x) for x in input().split()]\n",
    "\n",
    "for j in range(len(a)):\n",
    "    #initially swapped is false\n",
    "    swapped = False\n",
    "    i = 0\n",
    "    while i<len(a)-1:\n",
    "        #comparing the adjacent elements\n",
    "        if a[i]>a[i+1]:\n",
    "            #swapping\n",
    "            a[i],a[i+1] = a[i+1],a[i]\n",
    "            #Changing the value of swapped\n",
    "            swapped = True\n",
    "        i = i+1\n",
    "    #if swapped is false then the list is sorted\n",
    "    #we can stop the loop\n",
    "    if swapped == False:\n",
    "        break\n",
    "print (a)\n"
   ]
  },
  {
   "cell_type": "code",
   "execution_count": null,
   "metadata": {},
   "outputs": [],
   "source": []
  },
  {
   "cell_type": "code",
   "execution_count": null,
   "metadata": {},
   "outputs": [],
   "source": []
  },
  {
   "cell_type": "code",
   "execution_count": null,
   "metadata": {},
   "outputs": [],
   "source": [
    "m = int(input())\\\n",
    "arr1 = [int(x) for x in input().split() [:m]]\n",
    "n = int(input())\n",
    "arr2 = [int(x) for x in input().split() [:n]]\n",
    "arr3 = []\n",
    "i = 0\n",
    "j = 0\n",
    "while i < len(arr1) and j < len(arr2):\n",
    "    if arr1[i] <= arr2[j]:\n",
    "        arr3.append(arr1[i])\n",
    "\n",
    "        i = i + 1\n",
    "    elif arr1[i] > arr2[j]:\n",
    "        arr3.append(arr2[j])\n",
    "\n",
    "        j = j + 1\n",
    "        \n",
    "if i < len(arr1):\n",
    "    for l in arr1[i : len(arr1)]:\n",
    "        arr3.append(l)\n",
    "else:\n",
    "    for k in arr2[j :  len(arr2)]:\n",
    "        arr3.append(k)\n",
    "        \n",
    "for ele in arr3:\n",
    "    print(ele, end = ' ')"
   ]
  },
  {
   "cell_type": "code",
   "execution_count": null,
   "metadata": {},
   "outputs": [],
   "source": []
  },
  {
   "cell_type": "code",
   "execution_count": null,
   "metadata": {},
   "outputs": [],
   "source": []
  },
  {
   "cell_type": "code",
   "execution_count": null,
   "metadata": {},
   "outputs": [],
   "source": [
    "n = int(input())\n",
    "arr = [int(x) for x in input().split()[:n]]\n",
    "for i in range(0, n):\n",
    "    temp = arr[i]\n",
    "    # shifting elements till this condition holds\\n\",\n",
    "    j = i - 1\n",
    "    while (j >= 0 and arr[j] > temp):\n",
    "        arr[j + 1] = arr[j]\n",
    "        j = j - 1\n",
    "    # j + 1 is the correct postion for ith element    \\n\",\n",
    "    arr[j+1] = temp\n",
    "for ele in arr:\n",
    "    print(ele, end = ' ')"
   ]
  }
 ],
 "metadata": {
  "kernelspec": {
   "display_name": "Python 3",
   "language": "python",
   "name": "python3"
  },
  "language_info": {
   "codemirror_mode": {
    "name": "ipython",
    "version": 3
   },
   "file_extension": ".py",
   "mimetype": "text/x-python",
   "name": "python",
   "nbconvert_exporter": "python",
   "pygments_lexer": "ipython3",
   "version": "3.7.1"
  }
 },
 "nbformat": 4,
 "nbformat_minor": 4
}
