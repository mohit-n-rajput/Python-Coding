{
 "cells": [
  {
   "cell_type": "markdown",
   "metadata": {},
   "source": [
    "# Linear Search"
   ]
  },
  {
   "cell_type": "code",
   "execution_count": 2,
   "metadata": {},
   "outputs": [
    {
     "name": "stdout",
     "output_type": "stream",
     "text": [
      "7\n",
      "1 2 3 4 5 6 7\n"
     ]
    }
   ],
   "source": [
    "n = int(input())\n",
    "li = [int(x) for x in input().split()]"
   ]
  },
  {
   "cell_type": "code",
   "execution_count": 3,
   "metadata": {},
   "outputs": [
    {
     "data": {
      "text/plain": [
       "[1, 2, 3, 4, 5, 6, 7]"
      ]
     },
     "execution_count": 3,
     "metadata": {},
     "output_type": "execute_result"
    }
   ],
   "source": [
    "li "
   ]
  },
  {
   "cell_type": "code",
   "execution_count": 4,
   "metadata": {},
   "outputs": [
    {
     "name": "stdout",
     "output_type": "stream",
     "text": [
      "7\n"
     ]
    }
   ],
   "source": [
    "ele = int(input())"
   ]
  },
  {
   "cell_type": "markdown",
   "metadata": {},
   "source": [
    "### Give value"
   ]
  },
  {
   "cell_type": "code",
   "execution_count": 5,
   "metadata": {},
   "outputs": [
    {
     "name": "stdout",
     "output_type": "stream",
     "text": [
      "7\n"
     ]
    }
   ],
   "source": [
    "isFound = False\n",
    "for i in li:\n",
    "    if i==ele:\n",
    "        print(i)\n",
    "        isFound = True\n",
    "        break\n",
    "if isFound == False:\n",
    "    print(-1)"
   ]
  },
  {
   "cell_type": "markdown",
   "metadata": {},
   "source": [
    "### Give Index"
   ]
  },
  {
   "cell_type": "code",
   "execution_count": 6,
   "metadata": {},
   "outputs": [
    {
     "name": "stdout",
     "output_type": "stream",
     "text": [
      "5\n",
      "Element found at index: 4\n"
     ]
    }
   ],
   "source": [
    "ele = int(input())\n",
    "isFound = False\n",
    "# run loop over index of list\n",
    "for i in range(len(li)):\n",
    "    if li[i] == ele:\n",
    "        print(\"Element found at index:\",i)\n",
    "        isFound = True\n",
    "        break\n",
    "if isFound == False:\n",
    "    print(\"element not found so,\",-1)"
   ]
  },
  {
   "cell_type": "markdown",
   "metadata": {},
   "source": [
    "# Linear Search through function"
   ]
  },
  {
   "cell_type": "code",
   "execution_count": 7,
   "metadata": {},
   "outputs": [
    {
     "name": "stdout",
     "output_type": "stream",
     "text": [
      "7\n",
      "1 2 3 4 5 6 7\n"
     ]
    }
   ],
   "source": [
    "num = int(input())\n",
    "li = [int(x) for x in input().split()]\n"
   ]
  },
  {
   "cell_type": "code",
   "execution_count": 8,
   "metadata": {},
   "outputs": [
    {
     "name": "stdout",
     "output_type": "stream",
     "text": [
      "5\n"
     ]
    }
   ],
   "source": [
    "ele = int(input())"
   ]
  },
  {
   "cell_type": "code",
   "execution_count": 9,
   "metadata": {},
   "outputs": [
    {
     "name": "stdout",
     "output_type": "stream",
     "text": [
      "4\n"
     ]
    }
   ],
   "source": [
    "def lin_search(si,arr,ele):\n",
    "    isFalse = False\n",
    "    for i in range(si):\n",
    "        if arr[i]==ele:\n",
    "            isFound==True\n",
    "            return i\n",
    "            break\n",
    "    if isFalse == False:\n",
    "        return -1\n",
    "\n",
    "\n",
    "\n",
    "index = lin_search(num,li,ele)\n",
    "print(index)\n"
   ]
  },
  {
   "cell_type": "code",
   "execution_count": 10,
   "metadata": {},
   "outputs": [
    {
     "name": "stdout",
     "output_type": "stream",
     "text": [
      "5\n",
      "4\n"
     ]
    }
   ],
   "source": [
    "def lin_search(si,arr,ele):\n",
    "    isFalse = False\n",
    "    for i in range(si):\n",
    "        if arr[i]==ele:\n",
    "            isFound=True\n",
    "            return i\n",
    "            break\n",
    "    if isFalse == False:\n",
    "        return -1\n",
    "\n",
    "\n",
    "ele = int(input())\n",
    "index = lin_search(n,li,ele)\n",
    "print(index)\n"
   ]
  },
  {
   "cell_type": "code",
   "execution_count": 12,
   "metadata": {},
   "outputs": [
    {
     "name": "stdout",
     "output_type": "stream",
     "text": [
      "10\n",
      "-1\n"
     ]
    }
   ],
   "source": [
    "# second way\n",
    "def lin_search(arr,ele):\n",
    "    for i in range(len(arr)):\n",
    "        if arr[i]==ele:\n",
    "            return i\n",
    "    \n",
    "    # means loop not found the element\n",
    "    return -1\n",
    "\n",
    "\n",
    "ele = int(input())\n",
    "index = lin_search(li,ele)\n",
    "print(index)\n"
   ]
  },
  {
   "cell_type": "code",
   "execution_count": null,
   "metadata": {},
   "outputs": [],
   "source": []
  }
 ],
 "metadata": {
  "kernelspec": {
   "display_name": "Python 3",
   "language": "python",
   "name": "python3"
  },
  "language_info": {
   "codemirror_mode": {
    "name": "ipython",
    "version": 3
   },
   "file_extension": ".py",
   "mimetype": "text/x-python",
   "name": "python",
   "nbconvert_exporter": "python",
   "pygments_lexer": "ipython3",
   "version": "3.7.1"
  }
 },
 "nbformat": 4,
 "nbformat_minor": 4
}
